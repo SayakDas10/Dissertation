{
 "cells": [
  {
   "cell_type": "code",
   "execution_count": 11,
   "id": "fbd9252c",
   "metadata": {},
   "outputs": [
    {
     "name": "stdout",
     "output_type": "stream",
     "text": [
      "Collecting pytorch-ignite\n",
      "  Downloading pytorch_ignite-0.4.10-py3-none-any.whl (264 kB)\n",
      "\u001b[2K     \u001b[38;2;114;156;31m━━━━━━━━━━━━━━━━━━━━━━━━━━━━━━━━━━━━━━━\u001b[0m \u001b[32m264.1/264.1 kB\u001b[0m \u001b[31m2.5 MB/s\u001b[0m eta \u001b[36m0:00:00\u001b[0m[31m2.2 MB/s\u001b[0m eta \u001b[36m0:00:01\u001b[0m\n",
      "\u001b[?25hCollecting transformers\n",
      "  Downloading transformers-4.26.0-py3-none-any.whl (6.3 MB)\n",
      "\u001b[2K     \u001b[38;2;114;156;31m━━━━━━━━━━━━━━━━━━━━━━━━━━━━━━━━━━━━━━━━\u001b[0m \u001b[32m6.3/6.3 MB\u001b[0m \u001b[31m3.3 MB/s\u001b[0m eta \u001b[36m0:00:00\u001b[0mm eta \u001b[36m0:00:01\u001b[0m[36m0:00:01\u001b[0m\n",
      "\u001b[?25hRequirement already satisfied: datasets in /Users/sayakdas/Documents/Dissertation/codes/venv/lib/python3.9/site-packages (2.9.0)\n",
      "Requirement already satisfied: torch<2,>=1.3 in /Users/sayakdas/Documents/Dissertation/codes/venv/lib/python3.9/site-packages (from pytorch-ignite) (1.13.1)\n",
      "Requirement already satisfied: packaging in /Users/sayakdas/Documents/Dissertation/codes/venv/lib/python3.9/site-packages (from pytorch-ignite) (23.0)\n",
      "Requirement already satisfied: tqdm>=4.27 in /Users/sayakdas/Documents/Dissertation/codes/venv/lib/python3.9/site-packages (from transformers) (4.64.1)\n",
      "Requirement already satisfied: numpy>=1.17 in /Users/sayakdas/Documents/Dissertation/codes/venv/lib/python3.9/site-packages (from transformers) (1.24.1)\n",
      "Requirement already satisfied: pyyaml>=5.1 in /Users/sayakdas/Documents/Dissertation/codes/venv/lib/python3.9/site-packages (from transformers) (6.0)\n",
      "Collecting tokenizers!=0.11.3,<0.14,>=0.11.1\n",
      "  Downloading tokenizers-0.13.2-cp39-cp39-macosx_12_0_arm64.whl (3.7 MB)\n",
      "\u001b[2K     \u001b[38;2;114;156;31m━━━━━━━━━━━━━━━━━━━━━━━━━━━━━━━━━━━━━━━━\u001b[0m \u001b[32m3.7/3.7 MB\u001b[0m \u001b[31m3.2 MB/s\u001b[0m eta \u001b[36m0:00:00\u001b[0mm eta \u001b[36m0:00:01\u001b[0m[36m0:00:01\u001b[0m\n",
      "\u001b[?25hRequirement already satisfied: filelock in /Users/sayakdas/Documents/Dissertation/codes/venv/lib/python3.9/site-packages (from transformers) (3.9.0)\n",
      "Requirement already satisfied: huggingface-hub<1.0,>=0.11.0 in /Users/sayakdas/Documents/Dissertation/codes/venv/lib/python3.9/site-packages (from transformers) (0.12.0)\n",
      "Requirement already satisfied: requests in /Users/sayakdas/Documents/Dissertation/codes/venv/lib/python3.9/site-packages (from transformers) (2.28.2)\n",
      "Collecting regex!=2019.12.17\n",
      "  Using cached regex-2022.10.31-cp39-cp39-macosx_11_0_arm64.whl (287 kB)\n",
      "Requirement already satisfied: responses<0.19 in /Users/sayakdas/Documents/Dissertation/codes/venv/lib/python3.9/site-packages (from datasets) (0.18.0)\n",
      "Requirement already satisfied: fsspec[http]>=2021.11.1 in /Users/sayakdas/Documents/Dissertation/codes/venv/lib/python3.9/site-packages (from datasets) (2023.1.0)\n",
      "Requirement already satisfied: dill<0.3.7 in /Users/sayakdas/Documents/Dissertation/codes/venv/lib/python3.9/site-packages (from datasets) (0.3.6)\n",
      "Requirement already satisfied: pyarrow>=6.0.0 in /Users/sayakdas/Documents/Dissertation/codes/venv/lib/python3.9/site-packages (from datasets) (11.0.0)\n",
      "Requirement already satisfied: aiohttp in /Users/sayakdas/Documents/Dissertation/codes/venv/lib/python3.9/site-packages (from datasets) (3.8.3)\n",
      "Requirement already satisfied: pandas in /Users/sayakdas/Documents/Dissertation/codes/venv/lib/python3.9/site-packages (from datasets) (1.5.3)\n",
      "Requirement already satisfied: multiprocess in /Users/sayakdas/Documents/Dissertation/codes/venv/lib/python3.9/site-packages (from datasets) (0.70.14)\n",
      "Requirement already satisfied: xxhash in /Users/sayakdas/Documents/Dissertation/codes/venv/lib/python3.9/site-packages (from datasets) (3.2.0)\n",
      "Requirement already satisfied: multidict<7.0,>=4.5 in /Users/sayakdas/Documents/Dissertation/codes/venv/lib/python3.9/site-packages (from aiohttp->datasets) (6.0.4)\n",
      "Requirement already satisfied: yarl<2.0,>=1.0 in /Users/sayakdas/Documents/Dissertation/codes/venv/lib/python3.9/site-packages (from aiohttp->datasets) (1.8.2)\n",
      "Requirement already satisfied: aiosignal>=1.1.2 in /Users/sayakdas/Documents/Dissertation/codes/venv/lib/python3.9/site-packages (from aiohttp->datasets) (1.3.1)\n",
      "Requirement already satisfied: charset-normalizer<3.0,>=2.0 in /Users/sayakdas/Documents/Dissertation/codes/venv/lib/python3.9/site-packages (from aiohttp->datasets) (2.1.1)\n",
      "Requirement already satisfied: frozenlist>=1.1.1 in /Users/sayakdas/Documents/Dissertation/codes/venv/lib/python3.9/site-packages (from aiohttp->datasets) (1.3.3)\n",
      "Requirement already satisfied: attrs>=17.3.0 in /Users/sayakdas/Documents/Dissertation/codes/venv/lib/python3.9/site-packages (from aiohttp->datasets) (22.2.0)\n",
      "Requirement already satisfied: async-timeout<5.0,>=4.0.0a3 in /Users/sayakdas/Documents/Dissertation/codes/venv/lib/python3.9/site-packages (from aiohttp->datasets) (4.0.2)\n",
      "Requirement already satisfied: typing-extensions>=3.7.4.3 in /Users/sayakdas/Documents/Dissertation/codes/venv/lib/python3.9/site-packages (from huggingface-hub<1.0,>=0.11.0->transformers) (4.4.0)\n",
      "Requirement already satisfied: idna<4,>=2.5 in /Users/sayakdas/Documents/Dissertation/codes/venv/lib/python3.9/site-packages (from requests->transformers) (3.4)\n",
      "Requirement already satisfied: certifi>=2017.4.17 in /Users/sayakdas/Documents/Dissertation/codes/venv/lib/python3.9/site-packages (from requests->transformers) (2022.12.7)\n",
      "Requirement already satisfied: urllib3<1.27,>=1.21.1 in /Users/sayakdas/Documents/Dissertation/codes/venv/lib/python3.9/site-packages (from requests->transformers) (1.26.14)\n",
      "Requirement already satisfied: python-dateutil>=2.8.1 in /Users/sayakdas/Documents/Dissertation/codes/venv/lib/python3.9/site-packages (from pandas->datasets) (2.8.2)\n",
      "Requirement already satisfied: pytz>=2020.1 in /Users/sayakdas/Documents/Dissertation/codes/venv/lib/python3.9/site-packages (from pandas->datasets) (2022.7.1)\n",
      "Requirement already satisfied: six>=1.5 in /Users/sayakdas/Documents/Dissertation/codes/venv/lib/python3.9/site-packages (from python-dateutil>=2.8.1->pandas->datasets) (1.16.0)\n",
      "Installing collected packages: tokenizers, regex, pytorch-ignite, transformers\n",
      "Successfully installed pytorch-ignite-0.4.10 regex-2022.10.31 tokenizers-0.13.2 transformers-4.26.0\n"
     ]
    }
   ],
   "source": [
    "!pip install pytorch-ignite transformers datasets"
   ]
  },
  {
   "cell_type": "code",
   "execution_count": 12,
   "id": "b6855677",
   "metadata": {},
   "outputs": [
    {
     "ename": "ModuleNotFoundError",
     "evalue": "No module named 'ignite'",
     "output_type": "error",
     "traceback": [
      "\u001b[0;31m---------------------------------------------------------------------------\u001b[0m",
      "\u001b[0;31mModuleNotFoundError\u001b[0m                       Traceback (most recent call last)",
      "Input \u001b[0;32mIn [12]\u001b[0m, in \u001b[0;36m<cell line: 1>\u001b[0;34m()\u001b[0m\n\u001b[0;32m----> 1\u001b[0m \u001b[38;5;28;01mfrom\u001b[39;00m \u001b[38;5;21;01mignite\u001b[39;00m\u001b[38;5;21;01m.\u001b[39;00m\u001b[38;5;21;01mutils\u001b[39;00m \u001b[38;5;28;01mimport\u001b[39;00m manual_seed\n\u001b[1;32m      3\u001b[0m manual_seed(\u001b[38;5;241m42\u001b[39m)\n",
      "\u001b[0;31mModuleNotFoundError\u001b[0m: No module named 'ignite'"
     ]
    }
   ],
   "source": [
    "from ignite.utils import manual_seed\n",
    "\n",
    "manual_seed(42)"
   ]
  },
  {
   "cell_type": "code",
   "execution_count": null,
   "id": "cb4d9867",
   "metadata": {},
   "outputs": [],
   "source": []
  }
 ],
 "metadata": {
  "kernelspec": {
   "display_name": "Python 3 (ipykernel)",
   "language": "python",
   "name": "python3"
  },
  "language_info": {
   "codemirror_mode": {
    "name": "ipython",
    "version": 3
   },
   "file_extension": ".py",
   "mimetype": "text/x-python",
   "name": "python",
   "nbconvert_exporter": "python",
   "pygments_lexer": "ipython3",
   "version": "3.9.13"
  }
 },
 "nbformat": 4,
 "nbformat_minor": 5
}
