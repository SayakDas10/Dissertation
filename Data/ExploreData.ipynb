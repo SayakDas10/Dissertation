{
  "cells": [
    {
      "cell_type": "code",
      "execution_count": 1,
      "id": "1c573cda",
      "metadata": {
        "colab": {
          "base_uri": "https://localhost:8080/"
        },
        "id": "1c573cda",
        "outputId": "5e710631-f880-4eb2-f825-6a93fd67d1c7"
      },
      "outputs": [
        {
          "output_type": "stream",
          "name": "stdout",
          "text": [
            "Mounted at /content/drive\n"
          ]
        }
      ],
      "source": [
        "from google.colab import drive\n",
        "drive.mount('/content/drive')"
      ]
    },
    {
      "cell_type": "code",
      "source": [
        "path_dataset_single = \"drive/MyDrive/Dissertation/Data/ILDC_single/ILDC_single.csv\" # path to dataset\n",
        "path_dataset_multi = \"drive/MyDrive/Dissertation/Data/ILDC_multi/ILDC_multi.csv\"\n",
        "path_dataset_expert = \"drive/MyDrive/Dissertation/Data/ILDC_expert/source/\""
      ],
      "metadata": {
        "id": "ennz1lS-81zR"
      },
      "id": "ennz1lS-81zR",
      "execution_count": 2,
      "outputs": []
    },
    {
      "cell_type": "code",
      "execution_count": 3,
      "id": "0c6376bf",
      "metadata": {
        "id": "0c6376bf"
      },
      "outputs": [],
      "source": [
        "import os\n",
        "import pandas as pd"
      ]
    },
    {
      "cell_type": "code",
      "execution_count": 4,
      "id": "e4a2737e",
      "metadata": {
        "id": "e4a2737e"
      },
      "outputs": [],
      "source": [
        "class DatasetPandas:\n",
        "    def __init__(self, path):\n",
        "        with open(path, 'r') as dataset:\n",
        "            self.dataset = pd.read_csv(dataset)\n",
        "        _, filename = os.path.split(path)\n",
        "        print(\"Successfully loaded\", filename)\n",
        "\n",
        "    def get_dataset(self):\n",
        "        return self.dataset\n",
        "        \n",
        "    def get_splits(self):\n",
        "        train = self.dataset[self.dataset.split == 'train']\n",
        "        test = self.dataset[self.dataset.split == 'test']\n",
        "        dev = self.dataset[self.dataset.split == 'dev']\n",
        "        print('Returned...')\n",
        "        print(f'Train Length: {len(train)}\\nTest Length: {len(test)}\\nDev Length: {len(dev)}')\n",
        "        return train, test, dev"
      ]
    },
    {
      "cell_type": "code",
      "execution_count": 5,
      "id": "181ee8ff",
      "metadata": {
        "colab": {
          "base_uri": "https://localhost:8080/"
        },
        "id": "181ee8ff",
        "outputId": "8af072d3-2af7-4f0a-890e-2e21e1092231"
      },
      "outputs": [
        {
          "output_type": "stream",
          "name": "stderr",
          "text": [
            "[nltk_data] Downloading package stopwords to /root/nltk_data...\n",
            "[nltk_data]   Unzipping corpora/stopwords.zip.\n"
          ]
        }
      ],
      "source": [
        "import re\n",
        "import nltk\n",
        "from nltk.corpus import stopwords\n",
        "import string\n",
        "nltk.download('stopwords')\n",
        "cachedStopWords = stopwords.words(\"english\")\n",
        "\n",
        "\n",
        "def remove_dates(text):\n",
        "    pattern = '(\\b(0?[1-9]|[12]\\d|30|31)[^\\w\\d\\r\\n:](0?[1-9]|1[0-2])[^\\w\\d\\r\\n:](\\d{4}|\\d{2})\\b)|(\\b(0?[1-9]|1[0-2])[^\\w\\d\\r\\n:](0?[1-9]|[12]\\d|30|31)[^\\w\\d\\r\\n:](\\d{4}|\\d{2})\\b)'\n",
        "    pattern2 = '(0?[1-9]|[12]\\d|30|31)[^\\w\\d\\r\\n:](0?[1-9]|1[0-2])[^\\w\\d\\r\\n:](\\d{4}|\\d{2})'\n",
        "\n",
        "    text = re.sub(pattern, 'DATE', text)\n",
        "    text = re.sub(pattern2, 'DATE', text)\n",
        "    return text\n",
        "\n",
        "\n",
        "def remove_punctuation(text):\n",
        "    return ''.join([word for word in text if word not in string.punctuation])\n",
        "\n",
        "def remove_stopwords(text):\n",
        "    return ' '.join([word for word in text.split() if word not in cachedStopWords])\n",
        "\n",
        "def tokenize(text):\n",
        "    return nltk.word_tokenize(text)\n",
        "\n",
        "def no_preprocess(text):\n",
        "    text = text.lower()\n",
        "    return tokenize(text)\n",
        "\n",
        "def no_stopwords(text):\n",
        "    text = text.lower()\n",
        "    text = remove_stopwords(text)\n",
        "    return tokenize(text)\n",
        "\n",
        "def no_sw_punc(text):\n",
        "    text = text.lower()\n",
        "    text = remove_stopwords(text)\n",
        "    text = remove_punctuation(text)\n",
        "    return tokenize(text)\n",
        "\n",
        "def preprocess_all(text):\n",
        "    text = text.lower()\n",
        "    text = remove_dates(text)\n",
        "    text = remove_stopwords(text)\n",
        "    text = remove_punctuation(text)\n",
        "    return tokenize(text)\n",
        "\n",
        "def preprocess_all_wo_tokens(text):\n",
        "    text = text.lower()\n",
        "    text = remove_dates(text)\n",
        "    text = remove_stopwords(text)\n",
        "    text = remove_punctuation(text)\n",
        "    return text"
      ]
    },
    {
      "cell_type": "code",
      "execution_count": 6,
      "id": "00f6f870",
      "metadata": {
        "id": "00f6f870"
      },
      "outputs": [],
      "source": [
        "def get_dataset_stat(tokenized_text):\n",
        "    total_tokenized_words = 0\n",
        "    for i in range(len(tokenized_text)):\n",
        "        total_tokenized_words += len(tokenized_text[i])\n",
        "    avg_tokens = total_tokenized_words/len(tokenized_text)\n",
        "    print('total tokenized words: ', total_tokenized_words)\n",
        "    print('avg tokens: ', avg_tokens)\n",
        "    return total_tokenized_words, avg_tokens"
      ]
    },
    {
      "cell_type": "code",
      "execution_count": 7,
      "id": "c9828695",
      "metadata": {
        "colab": {
          "base_uri": "https://localhost:8080/"
        },
        "id": "c9828695",
        "outputId": "a232e57b-bfd5-4bfc-fc80-26ebbf8bc306"
      },
      "outputs": [
        {
          "output_type": "stream",
          "name": "stdout",
          "text": [
            "Successfully loaded ILDC_single.csv\n",
            "Returned...\n",
            "Train Length: 5082\n",
            "Test Length: 1517\n",
            "Dev Length: 994\n"
          ]
        }
      ],
      "source": [
        "# single_path = 'ILDC_single/ILDC_single.csv'\n",
        "single_dataset_loader = DatasetPandas(path_dataset_single)\n",
        "train, test, dev = single_dataset_loader.get_splits()"
      ]
    },
    {
      "cell_type": "code",
      "execution_count": 8,
      "id": "196b30e2",
      "metadata": {
        "colab": {
          "base_uri": "https://localhost:8080/",
          "height": 424
        },
        "id": "196b30e2",
        "outputId": "6e65a498-0c1c-4550-85dc-913441fe8e9f"
      },
      "outputs": [
        {
          "output_type": "execute_result",
          "data": {
            "text/plain": [
              "                                                   text  label  split  \\\n",
              "0      F. NARIMAN, J. Leave granted. In 2008, the Pu...      1  train   \n",
              "1      S. THAKUR, J. Leave granted. These appeals ar...      0  train   \n",
              "2      Markandey Katju, J. Leave granted. Heard lear...      1  train   \n",
              "3      ALTAMAS KABIR,J. Leave granted. The question ...      1  train   \n",
              "4      CIVIL APPEAL NO. 598 OF 2007 K. MATHUR, J. Th...      1  train   \n",
              "...                                                 ...    ...    ...   \n",
              "7588  civil appellate jurisdiction civil appeal numb...      1    dev   \n",
              "7589  criminal appellate jurisdiction special leave\\...      0    dev   \n",
              "7590  civil appellate jurisdiction civil appeal numb...      0    dev   \n",
              "7591  civil appellate jurisdiction civil appeal numb...      1    dev   \n",
              "7592  criminal appellate jurisdiction criminal appea...      0    dev   \n",
              "\n",
              "               name  \n",
              "0      2019_890.txt  \n",
              "1      2014_170.txt  \n",
              "2      2010_721.txt  \n",
              "3     2008_1460.txt  \n",
              "4      2008_188.txt  \n",
              "...             ...  \n",
              "7588   1985_121.txt  \n",
              "7589   1984_228.txt  \n",
              "7590   1965_317.txt  \n",
              "7591   1976_191.txt  \n",
              "7592   1965_373.txt  \n",
              "\n",
              "[7593 rows x 4 columns]"
            ],
            "text/html": [
              "\n",
              "  <div id=\"df-df7aaff3-8445-423f-8fb8-925eaef012ca\">\n",
              "    <div class=\"colab-df-container\">\n",
              "      <div>\n",
              "<style scoped>\n",
              "    .dataframe tbody tr th:only-of-type {\n",
              "        vertical-align: middle;\n",
              "    }\n",
              "\n",
              "    .dataframe tbody tr th {\n",
              "        vertical-align: top;\n",
              "    }\n",
              "\n",
              "    .dataframe thead th {\n",
              "        text-align: right;\n",
              "    }\n",
              "</style>\n",
              "<table border=\"1\" class=\"dataframe\">\n",
              "  <thead>\n",
              "    <tr style=\"text-align: right;\">\n",
              "      <th></th>\n",
              "      <th>text</th>\n",
              "      <th>label</th>\n",
              "      <th>split</th>\n",
              "      <th>name</th>\n",
              "    </tr>\n",
              "  </thead>\n",
              "  <tbody>\n",
              "    <tr>\n",
              "      <th>0</th>\n",
              "      <td>F. NARIMAN, J. Leave granted. In 2008, the Pu...</td>\n",
              "      <td>1</td>\n",
              "      <td>train</td>\n",
              "      <td>2019_890.txt</td>\n",
              "    </tr>\n",
              "    <tr>\n",
              "      <th>1</th>\n",
              "      <td>S. THAKUR, J. Leave granted. These appeals ar...</td>\n",
              "      <td>0</td>\n",
              "      <td>train</td>\n",
              "      <td>2014_170.txt</td>\n",
              "    </tr>\n",
              "    <tr>\n",
              "      <th>2</th>\n",
              "      <td>Markandey Katju, J. Leave granted. Heard lear...</td>\n",
              "      <td>1</td>\n",
              "      <td>train</td>\n",
              "      <td>2010_721.txt</td>\n",
              "    </tr>\n",
              "    <tr>\n",
              "      <th>3</th>\n",
              "      <td>ALTAMAS KABIR,J. Leave granted. The question ...</td>\n",
              "      <td>1</td>\n",
              "      <td>train</td>\n",
              "      <td>2008_1460.txt</td>\n",
              "    </tr>\n",
              "    <tr>\n",
              "      <th>4</th>\n",
              "      <td>CIVIL APPEAL NO. 598 OF 2007 K. MATHUR, J. Th...</td>\n",
              "      <td>1</td>\n",
              "      <td>train</td>\n",
              "      <td>2008_188.txt</td>\n",
              "    </tr>\n",
              "    <tr>\n",
              "      <th>...</th>\n",
              "      <td>...</td>\n",
              "      <td>...</td>\n",
              "      <td>...</td>\n",
              "      <td>...</td>\n",
              "    </tr>\n",
              "    <tr>\n",
              "      <th>7588</th>\n",
              "      <td>civil appellate jurisdiction civil appeal numb...</td>\n",
              "      <td>1</td>\n",
              "      <td>dev</td>\n",
              "      <td>1985_121.txt</td>\n",
              "    </tr>\n",
              "    <tr>\n",
              "      <th>7589</th>\n",
              "      <td>criminal appellate jurisdiction special leave\\...</td>\n",
              "      <td>0</td>\n",
              "      <td>dev</td>\n",
              "      <td>1984_228.txt</td>\n",
              "    </tr>\n",
              "    <tr>\n",
              "      <th>7590</th>\n",
              "      <td>civil appellate jurisdiction civil appeal numb...</td>\n",
              "      <td>0</td>\n",
              "      <td>dev</td>\n",
              "      <td>1965_317.txt</td>\n",
              "    </tr>\n",
              "    <tr>\n",
              "      <th>7591</th>\n",
              "      <td>civil appellate jurisdiction civil appeal numb...</td>\n",
              "      <td>1</td>\n",
              "      <td>dev</td>\n",
              "      <td>1976_191.txt</td>\n",
              "    </tr>\n",
              "    <tr>\n",
              "      <th>7592</th>\n",
              "      <td>criminal appellate jurisdiction criminal appea...</td>\n",
              "      <td>0</td>\n",
              "      <td>dev</td>\n",
              "      <td>1965_373.txt</td>\n",
              "    </tr>\n",
              "  </tbody>\n",
              "</table>\n",
              "<p>7593 rows × 4 columns</p>\n",
              "</div>\n",
              "      <button class=\"colab-df-convert\" onclick=\"convertToInteractive('df-df7aaff3-8445-423f-8fb8-925eaef012ca')\"\n",
              "              title=\"Convert this dataframe to an interactive table.\"\n",
              "              style=\"display:none;\">\n",
              "        \n",
              "  <svg xmlns=\"http://www.w3.org/2000/svg\" height=\"24px\"viewBox=\"0 0 24 24\"\n",
              "       width=\"24px\">\n",
              "    <path d=\"M0 0h24v24H0V0z\" fill=\"none\"/>\n",
              "    <path d=\"M18.56 5.44l.94 2.06.94-2.06 2.06-.94-2.06-.94-.94-2.06-.94 2.06-2.06.94zm-11 1L8.5 8.5l.94-2.06 2.06-.94-2.06-.94L8.5 2.5l-.94 2.06-2.06.94zm10 10l.94 2.06.94-2.06 2.06-.94-2.06-.94-.94-2.06-.94 2.06-2.06.94z\"/><path d=\"M17.41 7.96l-1.37-1.37c-.4-.4-.92-.59-1.43-.59-.52 0-1.04.2-1.43.59L10.3 9.45l-7.72 7.72c-.78.78-.78 2.05 0 2.83L4 21.41c.39.39.9.59 1.41.59.51 0 1.02-.2 1.41-.59l7.78-7.78 2.81-2.81c.8-.78.8-2.07 0-2.86zM5.41 20L4 18.59l7.72-7.72 1.47 1.35L5.41 20z\"/>\n",
              "  </svg>\n",
              "      </button>\n",
              "      \n",
              "  <style>\n",
              "    .colab-df-container {\n",
              "      display:flex;\n",
              "      flex-wrap:wrap;\n",
              "      gap: 12px;\n",
              "    }\n",
              "\n",
              "    .colab-df-convert {\n",
              "      background-color: #E8F0FE;\n",
              "      border: none;\n",
              "      border-radius: 50%;\n",
              "      cursor: pointer;\n",
              "      display: none;\n",
              "      fill: #1967D2;\n",
              "      height: 32px;\n",
              "      padding: 0 0 0 0;\n",
              "      width: 32px;\n",
              "    }\n",
              "\n",
              "    .colab-df-convert:hover {\n",
              "      background-color: #E2EBFA;\n",
              "      box-shadow: 0px 1px 2px rgba(60, 64, 67, 0.3), 0px 1px 3px 1px rgba(60, 64, 67, 0.15);\n",
              "      fill: #174EA6;\n",
              "    }\n",
              "\n",
              "    [theme=dark] .colab-df-convert {\n",
              "      background-color: #3B4455;\n",
              "      fill: #D2E3FC;\n",
              "    }\n",
              "\n",
              "    [theme=dark] .colab-df-convert:hover {\n",
              "      background-color: #434B5C;\n",
              "      box-shadow: 0px 1px 3px 1px rgba(0, 0, 0, 0.15);\n",
              "      filter: drop-shadow(0px 1px 2px rgba(0, 0, 0, 0.3));\n",
              "      fill: #FFFFFF;\n",
              "    }\n",
              "  </style>\n",
              "\n",
              "      <script>\n",
              "        const buttonEl =\n",
              "          document.querySelector('#df-df7aaff3-8445-423f-8fb8-925eaef012ca button.colab-df-convert');\n",
              "        buttonEl.style.display =\n",
              "          google.colab.kernel.accessAllowed ? 'block' : 'none';\n",
              "\n",
              "        async function convertToInteractive(key) {\n",
              "          const element = document.querySelector('#df-df7aaff3-8445-423f-8fb8-925eaef012ca');\n",
              "          const dataTable =\n",
              "            await google.colab.kernel.invokeFunction('convertToInteractive',\n",
              "                                                     [key], {});\n",
              "          if (!dataTable) return;\n",
              "\n",
              "          const docLinkHtml = 'Like what you see? Visit the ' +\n",
              "            '<a target=\"_blank\" href=https://colab.research.google.com/notebooks/data_table.ipynb>data table notebook</a>'\n",
              "            + ' to learn more about interactive tables.';\n",
              "          element.innerHTML = '';\n",
              "          dataTable['output_type'] = 'display_data';\n",
              "          await google.colab.output.renderOutput(dataTable, element);\n",
              "          const docLink = document.createElement('div');\n",
              "          docLink.innerHTML = docLinkHtml;\n",
              "          element.appendChild(docLink);\n",
              "        }\n",
              "      </script>\n",
              "    </div>\n",
              "  </div>\n",
              "  "
            ]
          },
          "metadata": {},
          "execution_count": 8
        }
      ],
      "source": [
        "single = single_dataset_loader.get_dataset()\n",
        "single"
      ]
    },
    {
      "cell_type": "code",
      "execution_count": null,
      "id": "3311efbb",
      "metadata": {
        "id": "3311efbb"
      },
      "outputs": [],
      "source": [
        "single['tokenized_text_all'] = single.text.apply(preprocess_all)\n",
        "single['tokenized_text_no_sw_punc'] = single.text.apply(no_sw_punc)\n",
        "single['tokenized_text_no_stopwords'] = single.text.apply(no_stopwords)\n",
        "single['tokenized_text_npp'] = single.text.apply(no_preprocess)"
      ]
    },
    {
      "cell_type": "code",
      "execution_count": null,
      "id": "976199a6",
      "metadata": {
        "id": "976199a6",
        "outputId": "21245fee-a7d0-4655-d9cc-a84e76809396"
      },
      "outputs": [
        {
          "name": "stdout",
          "output_type": "stream",
          "text": [
            "All Preprocess\n",
            "total tokenized words:  15752521\n",
            "avg tokens:  2074.610957460819\n",
            "No Stopwords, Punctuation\n",
            "total tokenized words:  15753733\n",
            "avg tokens:  2074.7705781640984\n",
            "No Stopwords\n",
            "total tokenized words:  17629647\n",
            "avg tokens:  2321.828921374951\n",
            "No preprocess\n",
            "total tokenized words:  31788864\n",
            "avg tokens:  4186.601343342552\n"
          ]
        }
      ],
      "source": [
        "print(\"All Preprocess\")\n",
        "num_tokens_single_all, avg_tokens_single_all = get_dataset_stat(single.tokenized_text_all)\n",
        "print(\"No Stopwords, Punctuation\")\n",
        "num_tokens_single_swpun, avg_tokens_single_swpun = get_dataset_stat(single.tokenized_text_no_sw_punc)\n",
        "print(\"No Stopwords\")\n",
        "num_tokens_single_sw, avg_tokens_single_sw = get_dataset_stat(single.tokenized_text_no_stopwords)\n",
        "print(\"No preprocess\")\n",
        "num_tokens_single_npp, avg_tokens_single_npp = get_dataset_stat(single.tokenized_text_npp)"
      ]
    },
    {
      "cell_type": "code",
      "execution_count": 9,
      "id": "09f0a8d5",
      "metadata": {
        "id": "09f0a8d5",
        "outputId": "7d02d18e-7698-46bc-c140-aefd8f6200c9",
        "colab": {
          "base_uri": "https://localhost:8080/"
        }
      },
      "outputs": [
        {
          "output_type": "stream",
          "name": "stdout",
          "text": [
            "Successfully loaded ILDC_multi.csv\n",
            "Returned...\n",
            "Train Length: 32305\n",
            "Test Length: 1517\n",
            "Dev Length: 994\n"
          ]
        }
      ],
      "source": [
        "# multi_path = 'ILDC_multi/ILDC_multi.csv'\n",
        "multi_dataset_loader = DatasetPandas(path_dataset_multi)\n",
        "train_m, test_m, dev_m = multi_dataset_loader.get_splits()"
      ]
    },
    {
      "cell_type": "code",
      "execution_count": 10,
      "id": "58177240",
      "metadata": {
        "id": "58177240",
        "outputId": "102f48f6-6055-4f34-d80f-5fb60f45c83f",
        "colab": {
          "base_uri": "https://localhost:8080/",
          "height": 424
        }
      },
      "outputs": [
        {
          "output_type": "execute_result",
          "data": {
            "text/plain": [
              "                                                    text  label  split  \\\n",
              "0       Uday Umesh Lalit, J. These appeals arise out ...      0  train   \n",
              "1       Indira Banerjee, J. These appeals are against...      0  train   \n",
              "2      TABLE OF CONTENTS Introduction A Contentions B...      0  train   \n",
              "3       Dinesh Maheshwari, J. Introductory with brief...      0  train   \n",
              "4       Dinesh Maheshwari, J. Preliminary By way of t...      0  train   \n",
              "...                                                  ...    ...    ...   \n",
              "34811   Dr. B. S. CHAUHAN, J. This appeal has been pr...      1   test   \n",
              "34812   Rajendra Babu, J. The respondents, who are co...      0   test   \n",
              "34813   Leave granted. Respondent 1 Insurance Company...      1   test   \n",
              "34814   Leave granted. The respondent is an Executive...      1   test   \n",
              "34815   A. BOBDE, J. This appeal is directed against ...      1   test   \n",
              "\n",
              "                name  \n",
              "0         2020_1.txt  \n",
              "1         2020_2.txt  \n",
              "2         2020_3.txt  \n",
              "3         2020_4.txt  \n",
              "4         2020_5.txt  \n",
              "...              ...  \n",
              "34811   2013_101.txt  \n",
              "34812  2000_1559.txt  \n",
              "34813    1998_83.txt  \n",
              "34814     1995_2.txt  \n",
              "34815    2017_61.txt  \n",
              "\n",
              "[34816 rows x 4 columns]"
            ],
            "text/html": [
              "\n",
              "  <div id=\"df-0143761a-c6d8-4ad4-ba6a-20c0ebdc6c48\">\n",
              "    <div class=\"colab-df-container\">\n",
              "      <div>\n",
              "<style scoped>\n",
              "    .dataframe tbody tr th:only-of-type {\n",
              "        vertical-align: middle;\n",
              "    }\n",
              "\n",
              "    .dataframe tbody tr th {\n",
              "        vertical-align: top;\n",
              "    }\n",
              "\n",
              "    .dataframe thead th {\n",
              "        text-align: right;\n",
              "    }\n",
              "</style>\n",
              "<table border=\"1\" class=\"dataframe\">\n",
              "  <thead>\n",
              "    <tr style=\"text-align: right;\">\n",
              "      <th></th>\n",
              "      <th>text</th>\n",
              "      <th>label</th>\n",
              "      <th>split</th>\n",
              "      <th>name</th>\n",
              "    </tr>\n",
              "  </thead>\n",
              "  <tbody>\n",
              "    <tr>\n",
              "      <th>0</th>\n",
              "      <td>Uday Umesh Lalit, J. These appeals arise out ...</td>\n",
              "      <td>0</td>\n",
              "      <td>train</td>\n",
              "      <td>2020_1.txt</td>\n",
              "    </tr>\n",
              "    <tr>\n",
              "      <th>1</th>\n",
              "      <td>Indira Banerjee, J. These appeals are against...</td>\n",
              "      <td>0</td>\n",
              "      <td>train</td>\n",
              "      <td>2020_2.txt</td>\n",
              "    </tr>\n",
              "    <tr>\n",
              "      <th>2</th>\n",
              "      <td>TABLE OF CONTENTS Introduction A Contentions B...</td>\n",
              "      <td>0</td>\n",
              "      <td>train</td>\n",
              "      <td>2020_3.txt</td>\n",
              "    </tr>\n",
              "    <tr>\n",
              "      <th>3</th>\n",
              "      <td>Dinesh Maheshwari, J. Introductory with brief...</td>\n",
              "      <td>0</td>\n",
              "      <td>train</td>\n",
              "      <td>2020_4.txt</td>\n",
              "    </tr>\n",
              "    <tr>\n",
              "      <th>4</th>\n",
              "      <td>Dinesh Maheshwari, J. Preliminary By way of t...</td>\n",
              "      <td>0</td>\n",
              "      <td>train</td>\n",
              "      <td>2020_5.txt</td>\n",
              "    </tr>\n",
              "    <tr>\n",
              "      <th>...</th>\n",
              "      <td>...</td>\n",
              "      <td>...</td>\n",
              "      <td>...</td>\n",
              "      <td>...</td>\n",
              "    </tr>\n",
              "    <tr>\n",
              "      <th>34811</th>\n",
              "      <td>Dr. B. S. CHAUHAN, J. This appeal has been pr...</td>\n",
              "      <td>1</td>\n",
              "      <td>test</td>\n",
              "      <td>2013_101.txt</td>\n",
              "    </tr>\n",
              "    <tr>\n",
              "      <th>34812</th>\n",
              "      <td>Rajendra Babu, J. The respondents, who are co...</td>\n",
              "      <td>0</td>\n",
              "      <td>test</td>\n",
              "      <td>2000_1559.txt</td>\n",
              "    </tr>\n",
              "    <tr>\n",
              "      <th>34813</th>\n",
              "      <td>Leave granted. Respondent 1 Insurance Company...</td>\n",
              "      <td>1</td>\n",
              "      <td>test</td>\n",
              "      <td>1998_83.txt</td>\n",
              "    </tr>\n",
              "    <tr>\n",
              "      <th>34814</th>\n",
              "      <td>Leave granted. The respondent is an Executive...</td>\n",
              "      <td>1</td>\n",
              "      <td>test</td>\n",
              "      <td>1995_2.txt</td>\n",
              "    </tr>\n",
              "    <tr>\n",
              "      <th>34815</th>\n",
              "      <td>A. BOBDE, J. This appeal is directed against ...</td>\n",
              "      <td>1</td>\n",
              "      <td>test</td>\n",
              "      <td>2017_61.txt</td>\n",
              "    </tr>\n",
              "  </tbody>\n",
              "</table>\n",
              "<p>34816 rows × 4 columns</p>\n",
              "</div>\n",
              "      <button class=\"colab-df-convert\" onclick=\"convertToInteractive('df-0143761a-c6d8-4ad4-ba6a-20c0ebdc6c48')\"\n",
              "              title=\"Convert this dataframe to an interactive table.\"\n",
              "              style=\"display:none;\">\n",
              "        \n",
              "  <svg xmlns=\"http://www.w3.org/2000/svg\" height=\"24px\"viewBox=\"0 0 24 24\"\n",
              "       width=\"24px\">\n",
              "    <path d=\"M0 0h24v24H0V0z\" fill=\"none\"/>\n",
              "    <path d=\"M18.56 5.44l.94 2.06.94-2.06 2.06-.94-2.06-.94-.94-2.06-.94 2.06-2.06.94zm-11 1L8.5 8.5l.94-2.06 2.06-.94-2.06-.94L8.5 2.5l-.94 2.06-2.06.94zm10 10l.94 2.06.94-2.06 2.06-.94-2.06-.94-.94-2.06-.94 2.06-2.06.94z\"/><path d=\"M17.41 7.96l-1.37-1.37c-.4-.4-.92-.59-1.43-.59-.52 0-1.04.2-1.43.59L10.3 9.45l-7.72 7.72c-.78.78-.78 2.05 0 2.83L4 21.41c.39.39.9.59 1.41.59.51 0 1.02-.2 1.41-.59l7.78-7.78 2.81-2.81c.8-.78.8-2.07 0-2.86zM5.41 20L4 18.59l7.72-7.72 1.47 1.35L5.41 20z\"/>\n",
              "  </svg>\n",
              "      </button>\n",
              "      \n",
              "  <style>\n",
              "    .colab-df-container {\n",
              "      display:flex;\n",
              "      flex-wrap:wrap;\n",
              "      gap: 12px;\n",
              "    }\n",
              "\n",
              "    .colab-df-convert {\n",
              "      background-color: #E8F0FE;\n",
              "      border: none;\n",
              "      border-radius: 50%;\n",
              "      cursor: pointer;\n",
              "      display: none;\n",
              "      fill: #1967D2;\n",
              "      height: 32px;\n",
              "      padding: 0 0 0 0;\n",
              "      width: 32px;\n",
              "    }\n",
              "\n",
              "    .colab-df-convert:hover {\n",
              "      background-color: #E2EBFA;\n",
              "      box-shadow: 0px 1px 2px rgba(60, 64, 67, 0.3), 0px 1px 3px 1px rgba(60, 64, 67, 0.15);\n",
              "      fill: #174EA6;\n",
              "    }\n",
              "\n",
              "    [theme=dark] .colab-df-convert {\n",
              "      background-color: #3B4455;\n",
              "      fill: #D2E3FC;\n",
              "    }\n",
              "\n",
              "    [theme=dark] .colab-df-convert:hover {\n",
              "      background-color: #434B5C;\n",
              "      box-shadow: 0px 1px 3px 1px rgba(0, 0, 0, 0.15);\n",
              "      filter: drop-shadow(0px 1px 2px rgba(0, 0, 0, 0.3));\n",
              "      fill: #FFFFFF;\n",
              "    }\n",
              "  </style>\n",
              "\n",
              "      <script>\n",
              "        const buttonEl =\n",
              "          document.querySelector('#df-0143761a-c6d8-4ad4-ba6a-20c0ebdc6c48 button.colab-df-convert');\n",
              "        buttonEl.style.display =\n",
              "          google.colab.kernel.accessAllowed ? 'block' : 'none';\n",
              "\n",
              "        async function convertToInteractive(key) {\n",
              "          const element = document.querySelector('#df-0143761a-c6d8-4ad4-ba6a-20c0ebdc6c48');\n",
              "          const dataTable =\n",
              "            await google.colab.kernel.invokeFunction('convertToInteractive',\n",
              "                                                     [key], {});\n",
              "          if (!dataTable) return;\n",
              "\n",
              "          const docLinkHtml = 'Like what you see? Visit the ' +\n",
              "            '<a target=\"_blank\" href=https://colab.research.google.com/notebooks/data_table.ipynb>data table notebook</a>'\n",
              "            + ' to learn more about interactive tables.';\n",
              "          element.innerHTML = '';\n",
              "          dataTable['output_type'] = 'display_data';\n",
              "          await google.colab.output.renderOutput(dataTable, element);\n",
              "          const docLink = document.createElement('div');\n",
              "          docLink.innerHTML = docLinkHtml;\n",
              "          element.appendChild(docLink);\n",
              "        }\n",
              "      </script>\n",
              "    </div>\n",
              "  </div>\n",
              "  "
            ]
          },
          "metadata": {},
          "execution_count": 10
        }
      ],
      "source": [
        "multi = multi_dataset_loader.get_dataset()\n",
        "multi"
      ]
    },
    {
      "cell_type": "code",
      "execution_count": null,
      "id": "928b45ff",
      "metadata": {
        "id": "928b45ff"
      },
      "outputs": [],
      "source": [
        "multi['tokenized_text_all'] = multi.text.apply(preprocess_all)\n",
        "multi['tokenized_text_no_sw_punc'] = multi.text.apply(no_sw_punc)\n",
        "multi['tokenized_text_no_stopwords'] = multi.text.apply(no_stopwords)\n",
        "multi['tokenized_text_npp'] = multi.text.apply(no_preprocess)"
      ]
    },
    {
      "cell_type": "markdown",
      "id": "8ae91995",
      "metadata": {
        "id": "8ae91995"
      },
      "source": []
    },
    {
      "cell_type": "code",
      "execution_count": null,
      "id": "e2248ffe",
      "metadata": {
        "id": "e2248ffe",
        "outputId": "75e8326e-ad74-44ed-a0e2-982d02318138"
      },
      "outputs": [
        {
          "name": "stdout",
          "output_type": "stream",
          "text": [
            "All Preprocess\n",
            "total tokenized words:  59853190\n",
            "avg tokens:  1719.128848805147\n",
            "No Stopwords, Punctuation\n",
            "total tokenized words:  59857722\n",
            "avg tokens:  1719.2590188419117\n",
            "No Stopwords\n",
            "total tokenized words:  67790830\n",
            "avg tokens:  1947.117130055147\n",
            "No preprocess\n",
            "total tokenized words:  119470780\n",
            "avg tokens:  3431.4906939338234\n"
          ]
        }
      ],
      "source": [
        "print(\"All Preprocess\")\n",
        "num_tokens_multi_all, avg_tokens_multi_all = get_dataset_stat(multi.tokenized_text_all)\n",
        "print(\"No Stopwords, Punctuation\")\n",
        "num_tokens_multi_swpun, avg_tokens_multi_swpun = get_dataset_stat(multi.tokenized_text_no_sw_punc)\n",
        "print(\"No Stopwords\")\n",
        "num_tokens_multi_sw, avg_tokens_multi_sw = get_dataset_stat(multi.tokenized_text_no_stopwords)\n",
        "print(\"No preprocess\")\n",
        "num_tokens_multi_npp, avg_tokens_multi_npp = get_dataset_stat(multi.tokenized_text_npp)"
      ]
    },
    {
      "cell_type": "code",
      "execution_count": 11,
      "id": "c93145b5",
      "metadata": {
        "id": "c93145b5"
      },
      "outputs": [],
      "source": [
        "def add_paragraphs(data):\n",
        "    new_data = []\n",
        "    for text in data:\n",
        "        dummy = ''\n",
        "        for i in range(len(text)-1):\n",
        "            dummy += text[i][:-1]\n",
        "        new_data.append(dummy)\n",
        "    return new_data"
      ]
    },
    {
      "cell_type": "code",
      "execution_count": 13,
      "id": "0b70d1b2",
      "metadata": {
        "id": "0b70d1b2",
        "outputId": "f36099a1-18a5-44f6-984b-49a3d7e682b3",
        "colab": {
          "base_uri": "https://localhost:8080/"
        }
      },
      "outputs": [
        {
          "output_type": "stream",
          "name": "stdout",
          "text": [
            "['1951_40.txt', '1951_35.txt', '1952_75.txt', '1962_384.txt', '1952_60.txt', '1951_64.txt', '1953_26.txt', '1962_118.txt', '1960_100.txt', '1959_134.txt', '2003_794.txt', '2013_30.txt', '2013_57.txt', '2013_35.txt', '1962_339.txt', '1962_128.txt', '1961_400.txt', '1959_76.txt', '2013_95.txt', '1961_344.txt', '1962_105.txt', '1954_114.txt', '1960_44.txt', '1961_417.txt', '1951_30.txt', '1959_66.txt', '1960_10.txt', '1962_113.txt', '1960_265.txt', '1959_189.txt', '1961_363.txt', '1960_327.txt', '1952_42.txt', '1962_213.txt', '1962_47.txt', '1951_33.txt', '1953_74.txt', '1954_0.txt', '1960_87.txt', '1960_72.txt', '1954_13.txt', '1954_144.txt', '1960_12.txt', '1951_36.txt', '1951_80.txt', '1961_365.txt', '1954_158.txt', '1963_37.txt', '1999_1001.txt', '1962_207.txt', '1959_5.txt', '1953_57.txt', '1951_10.txt', '1953_14.txt', '1960_103.txt', '1959_26.txt']\n"
          ]
        }
      ],
      "source": [
        "# expert_path = 'ILDC_expert/source/'\n",
        "expert_path = path_dataset_expert\n",
        "print(os.listdir(path_dataset_expert))"
      ]
    },
    {
      "cell_type": "code",
      "execution_count": 14,
      "id": "4f29ca3a",
      "metadata": {
        "id": "4f29ca3a",
        "outputId": "85e3573a-21b3-4f58-8c17-870d5df1f8dc",
        "colab": {
          "base_uri": "https://localhost:8080/"
        }
      },
      "outputs": [
        {
          "output_type": "stream",
          "name": "stdout",
          "text": [
            "56\n"
          ]
        }
      ],
      "source": [
        "data = []\n",
        "for file in os.listdir(expert_path):\n",
        "    with open(expert_path+file, 'r') as f:\n",
        "        data.append(f.readlines())\n",
        "print(len(data))"
      ]
    },
    {
      "cell_type": "code",
      "execution_count": 15,
      "id": "9efd6fba",
      "metadata": {
        "id": "9efd6fba",
        "outputId": "d63577f0-ac74-4fa7-8183-67b1e5c3d669",
        "colab": {
          "base_uri": "https://localhost:8080/"
        }
      },
      "outputs": [
        {
          "output_type": "execute_result",
          "data": {
            "text/plain": [
              "56"
            ]
          },
          "metadata": {},
          "execution_count": 15
        }
      ],
      "source": [
        "new_data = add_paragraphs(data)\n",
        "len(new_data)"
      ]
    },
    {
      "cell_type": "code",
      "execution_count": null,
      "id": "461a2f53",
      "metadata": {
        "id": "461a2f53"
      },
      "outputs": [],
      "source": [
        "data_tokenized_all = []\n",
        "data_tokenized_no_sw_punc= []\n",
        "data_tokenized_no_stopwords = []\n",
        "data_tokenized_npp = []\n",
        "\n",
        "for i in new_data:\n",
        "    data_tokenized_all.append(preprocess_all(i))\n",
        "    data_tokenized_no_sw_punc.append(no_sw_punc(i))\n",
        "    data_tokenized_no_stopwords.append(no_stopwords(i))\n",
        "    data_tokenized_npp.append(no_preprocess(i))\n"
      ]
    },
    {
      "cell_type": "code",
      "execution_count": null,
      "id": "ee8cdc4a",
      "metadata": {
        "id": "ee8cdc4a",
        "outputId": "0a39862a-15ed-4d8a-e0e9-ad2f46f266e6"
      },
      "outputs": [
        {
          "name": "stdout",
          "output_type": "stream",
          "text": [
            "All Preprocess\n",
            "total tokenized words:  85829\n",
            "avg tokens:  1532.6607142857142\n",
            "No Stopwords, Punctuation\n",
            "total tokenized words:  85876\n",
            "avg tokens:  1533.5\n",
            "No Stopwords\n",
            "total tokenized words:  101241\n",
            "avg tokens:  1807.875\n",
            "No preprocess\n",
            "total tokenized words:  185296\n",
            "avg tokens:  3308.8571428571427\n"
          ]
        }
      ],
      "source": [
        "print(\"All Preprocess\")\n",
        "num_tokens_expert_all, avg_tokens_expert_all = get_dataset_stat(data_tokenized_all)\n",
        "print(\"No Stopwords, Punctuation\")\n",
        "num_tokens_expert_swpun, avg_tokens_expert_swpun = get_dataset_stat(data_tokenized_no_sw_punc)\n",
        "print(\"No Stopwords\")\n",
        "num_tokens_expert_sw, avg_tokens_expert_sw = get_dataset_stat(data_tokenized_no_stopwords)\n",
        "print(\"No preprocess\")\n",
        "num_tokens_expert_npp, avg_tokens_expert_npp = get_dataset_stat(data_tokenized_npp)"
      ]
    },
    {
      "cell_type": "code",
      "execution_count": null,
      "id": "b18c4898",
      "metadata": {
        "id": "b18c4898"
      },
      "outputs": [],
      "source": [
        "from pytorch_transformers import XLNetModel, XLNetTokenizer, XLNetForSequenceClassification"
      ]
    },
    {
      "cell_type": "code",
      "execution_count": null,
      "id": "bb8e37c6",
      "metadata": {
        "id": "bb8e37c6"
      },
      "outputs": [],
      "source": [
        "tokenizer = XLNetTokenizer.from_pretrained('xlnet-base-cased', do_lower_case=True)\n",
        "tokenized_texts_single = [tokenizer.tokenize(text) for text in single.text]\n",
        "print (\"Tokenize the first sentence:\")\n",
        "# print (tokenized_texts_single[0])"
      ]
    },
    {
      "cell_type": "code",
      "execution_count": null,
      "id": "d4b00858",
      "metadata": {
        "id": "d4b00858",
        "outputId": "c7d49e30-4e99-425c-8ae8-f30c2d63151d"
      },
      "outputs": [
        {
          "name": "stdout",
          "output_type": "stream",
          "text": [
            "5115.323455814566\n"
          ]
        }
      ],
      "source": [
        "total = 0\n",
        "for text in tokenized_texts_single:\n",
        "    total += len(text)\n",
        "print(total/len(single))"
      ]
    },
    {
      "cell_type": "code",
      "execution_count": null,
      "id": "6104f70c",
      "metadata": {
        "id": "6104f70c",
        "outputId": "af3b271d-af00-45dd-d799-f917ab1b6502"
      },
      "outputs": [
        {
          "name": "stdout",
          "output_type": "stream",
          "text": [
            "4216.997213924632\n"
          ]
        }
      ],
      "source": [
        "tokenized_texts_multi = [tokenizer.tokenize(text) for text in multi.text]\n",
        "total_multi = 0\n",
        "for text in tokenized_texts_multi:\n",
        "    total_multi += len(text)\n",
        "print(total_multi/len(multi))"
      ]
    },
    {
      "cell_type": "code",
      "execution_count": null,
      "id": "615f9d0c",
      "metadata": {
        "id": "615f9d0c"
      },
      "outputs": [],
      "source": [
        "def return_stat(tokens):\n",
        "    total = 0\n",
        "    for token in tokens:\n",
        "        total += len(token)\n",
        "    return total/len(tokens)"
      ]
    },
    {
      "cell_type": "code",
      "execution_count": null,
      "id": "a5c89249",
      "metadata": {
        "id": "a5c89249",
        "outputId": "8fb99f7d-a5da-4e6a-a441-100ae5d628d4"
      },
      "outputs": [
        {
          "name": "stdout",
          "output_type": "stream",
          "text": [
            "Single AVG Tokens:  2855.190438561833\n",
            "MUlti AVG Tokens:  2371.2003389246324\n"
          ]
        }
      ],
      "source": [
        "single['text_all'] = single.text.apply(preprocess_all_wo_tokens)\n",
        "multi['text_all'] = multi.text.apply(preprocess_all_wo_tokens)\n",
        "\n",
        "tokenized_single_pp = [tokenizer.tokenize(text) for text in single.text_all]\n",
        "tokenized_multi_pp = [tokenizer.tokenize(text) for text in multi.text_all]\n",
        "print(\"Single AVG Tokens: \",return_stat(tokenized_single_pp))\n",
        "print(\"MUlti AVG Tokens: \", return_stat(tokenized_multi_pp))\n"
      ]
    },
    {
      "cell_type": "code",
      "source": [
        "def data_stat(texts):\n",
        "  whole = ''\n",
        "  for text in texts:\n",
        "    whole += text\n",
        "    whole += ' '\n",
        "  tokens = [token for token in whole.split(' ')]\n",
        "  return len(tokens)/len(texts)"
      ],
      "metadata": {
        "id": "LFT9m0xaH1mL"
      },
      "id": "LFT9m0xaH1mL",
      "execution_count": 19,
      "outputs": []
    },
    {
      "cell_type": "code",
      "source": [
        "print(\"AVG tokens in single dataset: \",data_stat(single.text))\n",
        "print(\"AVG tokens in multi dataset: \",data_stat(multi.text))\n",
        "print(\"AVG tokens in expert dataset: \",data_stat(new_data))"
      ],
      "metadata": {
        "colab": {
          "base_uri": "https://localhost:8080/"
        },
        "id": "EooE7dNtJ2qH",
        "outputId": "1668c4bd-0352-4668-e600-355c3f586e57"
      },
      "id": "EooE7dNtJ2qH",
      "execution_count": 21,
      "outputs": [
        {
          "output_type": "stream",
          "name": "stdout",
          "text": [
            "AVG tokens in single dataset:  3883.77150006585\n",
            "AVG tokens in multi dataset:  3230.801068474265\n",
            "AVG tokens in expert dataset:  3040.964285714286\n"
          ]
        }
      ]
    },
    {
      "cell_type": "code",
      "source": [
        "def avg_sent(texts):\n",
        "  total = 0\n",
        "  for text in texts:\n",
        "    sent = text.split('.')\n",
        "    total += len(sent)\n",
        "    del sent\n",
        "  return total/len(texts)"
      ],
      "metadata": {
        "id": "1bUPtccQZk20"
      },
      "id": "1bUPtccQZk20",
      "execution_count": 24,
      "outputs": []
    },
    {
      "cell_type": "code",
      "source": [
        "print(\"AVG sentences in single dataset: \",avg_sent(single.text))\n",
        "print(\"AVG sentences in multi dataset: \",avg_sent(multi.text))\n",
        "print(\"AVG sentences in expert dataset: \",avg_sent(new_data))"
      ],
      "metadata": {
        "colab": {
          "base_uri": "https://localhost:8080/"
        },
        "id": "V5ZRa_mJaF97",
        "outputId": "9377a096-ce1d-4968-ef5f-f347d95740a4"
      },
      "id": "V5ZRa_mJaF97",
      "execution_count": 26,
      "outputs": [
        {
          "output_type": "stream",
          "name": "stdout",
          "text": [
            "AVG sentences in single dataset:  205.1875411563282\n",
            "AVG sentences in multi dataset:  169.55698529411765\n",
            "AVG sentences in expert dataset:  139.85714285714286\n"
          ]
        }
      ]
    },
    {
      "cell_type": "code",
      "source": [],
      "metadata": {
        "id": "i1C86v_oaIBw"
      },
      "id": "i1C86v_oaIBw",
      "execution_count": null,
      "outputs": []
    }
  ],
  "metadata": {
    "kernelspec": {
      "display_name": ".venv",
      "language": "python",
      "name": "python3"
    },
    "language_info": {
      "codemirror_mode": {
        "name": "ipython",
        "version": 3
      },
      "file_extension": ".py",
      "mimetype": "text/x-python",
      "name": "python",
      "nbconvert_exporter": "python",
      "pygments_lexer": "ipython3",
      "version": "3.11.1"
    },
    "vscode": {
      "interpreter": {
        "hash": "dadb59764af3a780968299c6d8062dcdb07b07a2c506b4bb4bd7faf884b2a495"
      }
    },
    "colab": {
      "provenance": []
    }
  },
  "nbformat": 4,
  "nbformat_minor": 5
}