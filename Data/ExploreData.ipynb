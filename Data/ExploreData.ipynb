{
 "cells": [
  {
   "cell_type": "code",
   "execution_count": 1,
   "id": "0c6376bf",
   "metadata": {},
   "outputs": [],
   "source": [
    "import os\n",
    "import pandas as pd"
   ]
  },
  {
   "cell_type": "code",
   "execution_count": 2,
   "id": "e4a2737e",
   "metadata": {},
   "outputs": [],
   "source": [
    "class DatasetPandas:\n",
    "    def __init__(self, path):\n",
    "        with open(path, 'r') as dataset:\n",
    "            self.dataset = pd.read_csv(dataset)\n",
    "        _, filename = os.path.split(path)\n",
    "        print(\"Successfully loaded\", filename)\n",
    "\n",
    "    def get_dataset(self):\n",
    "        return self.dataset\n",
    "        \n",
    "    def get_splits(self):\n",
    "        train = self.dataset[self.dataset.split == 'train']\n",
    "        test = self.dataset[self.dataset.split == 'test']\n",
    "        dev = self.dataset[self.dataset.split == 'dev']\n",
    "        print('Returned...')\n",
    "        print(f'Train Length: {len(train)}\\nTest Length: {len(test)}\\nDev Length: {len(dev)}')\n",
    "        return train, test, dev"
   ]
  },
  {
   "cell_type": "code",
   "execution_count": 3,
   "outputs": [],
   "source": [
    "import re\n",
    "import nltk\n",
    "from nltk.corpus import stopwords\n",
    "import string\n",
    "cachedStopWords = stopwords.words(\"english\")\n",
    "\n",
    "\n",
    "def remove_dates(text):\n",
    "    pattern = '(\\b(0?[1-9]|[12]\\d|30|31)[^\\w\\d\\r\\n:](0?[1-9]|1[0-2])[^\\w\\d\\r\\n:](\\d{4}|\\d{2})\\b)|(\\b(0?[1-9]|1[0-2])[^\\w\\d\\r\\n:](0?[1-9]|[12]\\d|30|31)[^\\w\\d\\r\\n:](\\d{4}|\\d{2})\\b)'\n",
    "    pattern2 = '(0?[1-9]|[12]\\d|30|31)[^\\w\\d\\r\\n:](0?[1-9]|1[0-2])[^\\w\\d\\r\\n:](\\d{4}|\\d{2})'\n",
    "\n",
    "    text = re.sub(pattern, 'DATE', text)\n",
    "    text = re.sub(pattern2, 'DATE', text)\n",
    "    return text\n",
    "\n",
    "\n",
    "def remove_punctuation(text):\n",
    "    return ''.join([word for word in text if word not in string.punctuation])\n",
    "\n",
    "def remove_stopwords(text):\n",
    "    return ' '.join([word for word in text.split() if word not in cachedStopWords])\n",
    "\n",
    "def tokenize(text):\n",
    "    return nltk.word_tokenize(text)\n",
    "\n",
    "def no_preprocess(text):\n",
    "    text = text.lower()\n",
    "    return tokenize(text)\n",
    "\n",
    "def no_stopwords(text):\n",
    "    text = text.lower()\n",
    "    text = remove_stopwords(text)\n",
    "    return tokenize(text)\n",
    "\n",
    "def no_sw_punc(text):\n",
    "    text = text.lower()\n",
    "    text = remove_stopwords(text)\n",
    "    text = remove_punctuation(text)\n",
    "    return tokenize(text)\n",
    "\n",
    "def preprocess_all(text):\n",
    "    text = text.lower()\n",
    "    text = remove_dates(text)\n",
    "    text = remove_stopwords(text)\n",
    "    text = remove_punctuation(text)\n",
    "    return tokenize(text)"
   ],
   "metadata": {
    "collapsed": false
   }
  },
  {
   "cell_type": "code",
   "execution_count": 4,
   "outputs": [],
   "source": [
    "def get_dataset_stat(tokenized_text):\n",
    "    total_tokenized_words = 0\n",
    "    for i in range(len(tokenized_text)):\n",
    "        total_tokenized_words += len(tokenized_text[i])\n",
    "    avg_tokens = total_tokenized_words/len(tokenized_text)\n",
    "    print('total tokenized words: ', total_tokenized_words)\n",
    "    print('avg tokens: ', avg_tokens)\n",
    "    return total_tokenized_words, avg_tokens"
   ],
   "metadata": {
    "collapsed": false
   }
  },
  {
   "cell_type": "code",
   "execution_count": 5,
   "outputs": [
    {
     "name": "stdout",
     "output_type": "stream",
     "text": [
      "Successfully loaded ILDC_single.csv\n",
      "Returned...\n",
      "Train Length: 5082\n",
      "Test Length: 1517\n",
      "Dev Length: 994\n"
     ]
    }
   ],
   "source": [
    "single_path = 'ILDC_single/ILDC_single.csv'\n",
    "single_dataset_loader = DatasetPandas(single_path)\n",
    "train, test, dev = single_dataset_loader.get_splits()"
   ],
   "metadata": {
    "collapsed": false
   }
  },
  {
   "cell_type": "code",
   "execution_count": 6,
   "outputs": [
    {
     "data": {
      "text/plain": "                                                   text  label  split  \\\n0      F. NARIMAN, J. Leave granted. In 2008, the Pu...      1  train   \n1      S. THAKUR, J. Leave granted. These appeals ar...      0  train   \n2      Markandey Katju, J. Leave granted. Heard lear...      1  train   \n3      ALTAMAS KABIR,J. Leave granted. The question ...      1  train   \n4      CIVIL APPEAL NO. 598 OF 2007 K. MATHUR, J. Th...      1  train   \n...                                                 ...    ...    ...   \n7588  civil appellate jurisdiction civil appeal numb...      1    dev   \n7589  criminal appellate jurisdiction special leave\\...      0    dev   \n7590  civil appellate jurisdiction civil appeal numb...      0    dev   \n7591  civil appellate jurisdiction civil appeal numb...      1    dev   \n7592  criminal appellate jurisdiction criminal appea...      0    dev   \n\n               name  \n0      2019_890.txt  \n1      2014_170.txt  \n2      2010_721.txt  \n3     2008_1460.txt  \n4      2008_188.txt  \n...             ...  \n7588   1985_121.txt  \n7589   1984_228.txt  \n7590   1965_317.txt  \n7591   1976_191.txt  \n7592   1965_373.txt  \n\n[7593 rows x 4 columns]",
      "text/html": "<div>\n<style scoped>\n    .dataframe tbody tr th:only-of-type {\n        vertical-align: middle;\n    }\n\n    .dataframe tbody tr th {\n        vertical-align: top;\n    }\n\n    .dataframe thead th {\n        text-align: right;\n    }\n</style>\n<table border=\"1\" class=\"dataframe\">\n  <thead>\n    <tr style=\"text-align: right;\">\n      <th></th>\n      <th>text</th>\n      <th>label</th>\n      <th>split</th>\n      <th>name</th>\n    </tr>\n  </thead>\n  <tbody>\n    <tr>\n      <th>0</th>\n      <td>F. NARIMAN, J. Leave granted. In 2008, the Pu...</td>\n      <td>1</td>\n      <td>train</td>\n      <td>2019_890.txt</td>\n    </tr>\n    <tr>\n      <th>1</th>\n      <td>S. THAKUR, J. Leave granted. These appeals ar...</td>\n      <td>0</td>\n      <td>train</td>\n      <td>2014_170.txt</td>\n    </tr>\n    <tr>\n      <th>2</th>\n      <td>Markandey Katju, J. Leave granted. Heard lear...</td>\n      <td>1</td>\n      <td>train</td>\n      <td>2010_721.txt</td>\n    </tr>\n    <tr>\n      <th>3</th>\n      <td>ALTAMAS KABIR,J. Leave granted. The question ...</td>\n      <td>1</td>\n      <td>train</td>\n      <td>2008_1460.txt</td>\n    </tr>\n    <tr>\n      <th>4</th>\n      <td>CIVIL APPEAL NO. 598 OF 2007 K. MATHUR, J. Th...</td>\n      <td>1</td>\n      <td>train</td>\n      <td>2008_188.txt</td>\n    </tr>\n    <tr>\n      <th>...</th>\n      <td>...</td>\n      <td>...</td>\n      <td>...</td>\n      <td>...</td>\n    </tr>\n    <tr>\n      <th>7588</th>\n      <td>civil appellate jurisdiction civil appeal numb...</td>\n      <td>1</td>\n      <td>dev</td>\n      <td>1985_121.txt</td>\n    </tr>\n    <tr>\n      <th>7589</th>\n      <td>criminal appellate jurisdiction special leave\\...</td>\n      <td>0</td>\n      <td>dev</td>\n      <td>1984_228.txt</td>\n    </tr>\n    <tr>\n      <th>7590</th>\n      <td>civil appellate jurisdiction civil appeal numb...</td>\n      <td>0</td>\n      <td>dev</td>\n      <td>1965_317.txt</td>\n    </tr>\n    <tr>\n      <th>7591</th>\n      <td>civil appellate jurisdiction civil appeal numb...</td>\n      <td>1</td>\n      <td>dev</td>\n      <td>1976_191.txt</td>\n    </tr>\n    <tr>\n      <th>7592</th>\n      <td>criminal appellate jurisdiction criminal appea...</td>\n      <td>0</td>\n      <td>dev</td>\n      <td>1965_373.txt</td>\n    </tr>\n  </tbody>\n</table>\n<p>7593 rows × 4 columns</p>\n</div>"
     },
     "execution_count": 6,
     "metadata": {},
     "output_type": "execute_result"
    }
   ],
   "source": [
    "single = single_dataset_loader.get_dataset()\n",
    "single"
   ],
   "metadata": {
    "collapsed": false
   }
  },
  {
   "cell_type": "markdown",
   "source": [],
   "metadata": {
    "collapsed": false
   }
  },
  {
   "cell_type": "code",
   "execution_count": 7,
   "outputs": [],
   "source": [
    "single['tokenized_text_all'] = single.text.apply(preprocess_all)\n",
    "single['tokenized_text_no_sw_punc'] = single.text.apply(no_sw_punc)\n",
    "single['tokenized_text_no_stopwords'] = single.text.apply(no_stopwords)\n",
    "single['tokenized_text_npp'] = single.text.apply(no_preprocess)"
   ],
   "metadata": {
    "collapsed": false
   }
  },
  {
   "cell_type": "code",
   "execution_count": 8,
   "outputs": [
    {
     "name": "stdout",
     "output_type": "stream",
     "text": [
      "All Preprocess\n",
      "total tokenized words:  15752521\n",
      "avg tokens:  2074.610957460819\n",
      "No Stopwords, Punctuation\n",
      "total tokenized words:  15753733\n",
      "avg tokens:  2074.7705781640984\n",
      "No Stopwords\n",
      "total tokenized words:  17629647\n",
      "avg tokens:  2321.828921374951\n",
      "No preprocess\n",
      "total tokenized words:  31788864\n",
      "avg tokens:  4186.601343342552\n"
     ]
    }
   ],
   "source": [
    "print(\"All Preprocess\")\n",
    "num_tokens_single_all, avg_tokens_single_all = get_dataset_stat(single.tokenized_text_all)\n",
    "print(\"No Stopwords, Punctuation\")\n",
    "num_tokens_single_swpun, avg_tokens_single_swpun = get_dataset_stat(single.tokenized_text_no_sw_punc)\n",
    "print(\"No Stopwords\")\n",
    "num_tokens_single_sw, avg_tokens_single_sw = get_dataset_stat(single.tokenized_text_no_stopwords)\n",
    "print(\"No preprocess\")\n",
    "num_tokens_single_npp, avg_tokens_single_npp = get_dataset_stat(single.tokenized_text_npp)"
   ],
   "metadata": {
    "collapsed": false
   }
  },
  {
   "cell_type": "code",
   "execution_count": 9,
   "outputs": [
    {
     "name": "stdout",
     "output_type": "stream",
     "text": [
      "Successfully loaded ILDC_multi.csv\n",
      "Returned...\n",
      "Train Length: 32305\n",
      "Test Length: 1517\n",
      "Dev Length: 994\n"
     ]
    }
   ],
   "source": [
    "multi_path = 'ILDC_multi/ILDC_multi.csv'\n",
    "multi_dataset_loader = DatasetPandas(multi_path)\n",
    "train_m, test_m, dev_m = multi_dataset_loader.get_splits()"
   ],
   "metadata": {
    "collapsed": false
   }
  },
  {
   "cell_type": "code",
   "execution_count": 10,
   "outputs": [
    {
     "data": {
      "text/plain": "                                                    text  label  split  \\\n0       Uday Umesh Lalit, J. These appeals arise out ...      0  train   \n1       Indira Banerjee, J. These appeals are against...      0  train   \n2      TABLE OF CONTENTS Introduction A Contentions B...      0  train   \n3       Dinesh Maheshwari, J. Introductory with brief...      0  train   \n4       Dinesh Maheshwari, J. Preliminary By way of t...      0  train   \n...                                                  ...    ...    ...   \n34811   Dr. B. S. CHAUHAN, J. This appeal has been pr...      1   test   \n34812   Rajendra Babu, J. The respondents, who are co...      0   test   \n34813   Leave granted. Respondent 1 Insurance Company...      1   test   \n34814   Leave granted. The respondent is an Executive...      1   test   \n34815   A. BOBDE, J. This appeal is directed against ...      1   test   \n\n                name  \n0         2020_1.txt  \n1         2020_2.txt  \n2         2020_3.txt  \n3         2020_4.txt  \n4         2020_5.txt  \n...              ...  \n34811   2013_101.txt  \n34812  2000_1559.txt  \n34813    1998_83.txt  \n34814     1995_2.txt  \n34815    2017_61.txt  \n\n[34816 rows x 4 columns]",
      "text/html": "<div>\n<style scoped>\n    .dataframe tbody tr th:only-of-type {\n        vertical-align: middle;\n    }\n\n    .dataframe tbody tr th {\n        vertical-align: top;\n    }\n\n    .dataframe thead th {\n        text-align: right;\n    }\n</style>\n<table border=\"1\" class=\"dataframe\">\n  <thead>\n    <tr style=\"text-align: right;\">\n      <th></th>\n      <th>text</th>\n      <th>label</th>\n      <th>split</th>\n      <th>name</th>\n    </tr>\n  </thead>\n  <tbody>\n    <tr>\n      <th>0</th>\n      <td>Uday Umesh Lalit, J. These appeals arise out ...</td>\n      <td>0</td>\n      <td>train</td>\n      <td>2020_1.txt</td>\n    </tr>\n    <tr>\n      <th>1</th>\n      <td>Indira Banerjee, J. These appeals are against...</td>\n      <td>0</td>\n      <td>train</td>\n      <td>2020_2.txt</td>\n    </tr>\n    <tr>\n      <th>2</th>\n      <td>TABLE OF CONTENTS Introduction A Contentions B...</td>\n      <td>0</td>\n      <td>train</td>\n      <td>2020_3.txt</td>\n    </tr>\n    <tr>\n      <th>3</th>\n      <td>Dinesh Maheshwari, J. Introductory with brief...</td>\n      <td>0</td>\n      <td>train</td>\n      <td>2020_4.txt</td>\n    </tr>\n    <tr>\n      <th>4</th>\n      <td>Dinesh Maheshwari, J. Preliminary By way of t...</td>\n      <td>0</td>\n      <td>train</td>\n      <td>2020_5.txt</td>\n    </tr>\n    <tr>\n      <th>...</th>\n      <td>...</td>\n      <td>...</td>\n      <td>...</td>\n      <td>...</td>\n    </tr>\n    <tr>\n      <th>34811</th>\n      <td>Dr. B. S. CHAUHAN, J. This appeal has been pr...</td>\n      <td>1</td>\n      <td>test</td>\n      <td>2013_101.txt</td>\n    </tr>\n    <tr>\n      <th>34812</th>\n      <td>Rajendra Babu, J. The respondents, who are co...</td>\n      <td>0</td>\n      <td>test</td>\n      <td>2000_1559.txt</td>\n    </tr>\n    <tr>\n      <th>34813</th>\n      <td>Leave granted. Respondent 1 Insurance Company...</td>\n      <td>1</td>\n      <td>test</td>\n      <td>1998_83.txt</td>\n    </tr>\n    <tr>\n      <th>34814</th>\n      <td>Leave granted. The respondent is an Executive...</td>\n      <td>1</td>\n      <td>test</td>\n      <td>1995_2.txt</td>\n    </tr>\n    <tr>\n      <th>34815</th>\n      <td>A. BOBDE, J. This appeal is directed against ...</td>\n      <td>1</td>\n      <td>test</td>\n      <td>2017_61.txt</td>\n    </tr>\n  </tbody>\n</table>\n<p>34816 rows × 4 columns</p>\n</div>"
     },
     "execution_count": 10,
     "metadata": {},
     "output_type": "execute_result"
    }
   ],
   "source": [
    "multi = multi_dataset_loader.get_dataset()\n",
    "multi"
   ],
   "metadata": {
    "collapsed": false
   }
  },
  {
   "cell_type": "code",
   "execution_count": 11,
   "outputs": [],
   "source": [
    "multi['tokenized_text_all'] = multi.text.apply(preprocess_all)\n",
    "multi['tokenized_text_no_sw_punc'] = multi.text.apply(no_sw_punc)\n",
    "multi['tokenized_text_no_stopwords'] = multi.text.apply(no_stopwords)\n",
    "multi['tokenized_text_npp'] = multi.text.apply(no_preprocess)"
   ],
   "metadata": {
    "collapsed": false
   }
  },
  {
   "cell_type": "markdown",
   "source": [],
   "metadata": {
    "collapsed": false
   }
  },
  {
   "cell_type": "code",
   "execution_count": 12,
   "outputs": [
    {
     "name": "stdout",
     "output_type": "stream",
     "text": [
      "All Preprocess\n",
      "total tokenized words:  59853190\n",
      "avg tokens:  1719.128848805147\n",
      "No Stopwords, Punctuation\n",
      "total tokenized words:  59857722\n",
      "avg tokens:  1719.2590188419117\n",
      "No Stopwords\n",
      "total tokenized words:  67790830\n",
      "avg tokens:  1947.117130055147\n",
      "No preprocess\n",
      "total tokenized words:  119470780\n",
      "avg tokens:  3431.4906939338234\n"
     ]
    }
   ],
   "source": [
    "print(\"All Preprocess\")\n",
    "num_tokens_multi_all, avg_tokens_multi_all = get_dataset_stat(multi.tokenized_text_all)\n",
    "print(\"No Stopwords, Punctuation\")\n",
    "num_tokens_multi_swpun, avg_tokens_multi_swpun = get_dataset_stat(multi.tokenized_text_no_sw_punc)\n",
    "print(\"No Stopwords\")\n",
    "num_tokens_multi_sw, avg_tokens_multi_sw = get_dataset_stat(multi.tokenized_text_no_stopwords)\n",
    "print(\"No preprocess\")\n",
    "num_tokens_multi_npp, avg_tokens_multi_npp = get_dataset_stat(multi.tokenized_text_npp)"
   ],
   "metadata": {
    "collapsed": false
   }
  },
  {
   "cell_type": "code",
   "execution_count": 13,
   "outputs": [],
   "source": [
    "def add_paragraphs(data):\n",
    "    new_data = []\n",
    "    for text in data:\n",
    "        dummy = ''\n",
    "        for i in range(len(text)-1):\n",
    "            dummy += text[i][:-1]\n",
    "        new_data.append(dummy)\n",
    "    return new_data"
   ],
   "metadata": {
    "collapsed": false
   }
  },
  {
   "cell_type": "code",
   "execution_count": 14,
   "outputs": [
    {
     "name": "stdout",
     "output_type": "stream",
     "text": [
      "['2013_35.txt', '1962_384.txt', '2003_794.txt', '1954_144.txt', '1962_47.txt', '1959_189.txt', '1999_1001.txt', '1960_327.txt', '1953_74.txt', '2013_30.txt', '1959_5.txt', '1960_44.txt', '1960_87.txt', '1951_64.txt', '1961_344.txt', '2013_95.txt', '2013_57.txt', '1959_66.txt', '1962_118.txt', '1953_14.txt', '1951_10.txt', '1959_76.txt', '1952_42.txt', '1961_365.txt', '1961_417.txt', '1951_36.txt', '1962_113.txt', '1962_339.txt', '1953_26.txt', '1954_13.txt', '1961_400.txt', '1951_35.txt', '1962_105.txt', '1951_30.txt', '1954_0.txt', '1961_363.txt', '1952_75.txt', '1960_10.txt', '1959_134.txt', '1962_128.txt', '1952_60.txt', '1951_33.txt', '1954_114.txt', '1960_12.txt', '1962_213.txt', '1962_207.txt', '1951_40.txt', '1960_100.txt', '1959_26.txt', '1954_158.txt', '1951_80.txt', '1960_103.txt', '1960_265.txt', '1953_57.txt', '1960_72.txt', '1963_37.txt']\n"
     ]
    }
   ],
   "source": [
    "expert_path = 'ILDC_expert/source/'\n",
    "print(os.listdir(expert_path))"
   ],
   "metadata": {
    "collapsed": false
   }
  },
  {
   "cell_type": "code",
   "execution_count": 15,
   "outputs": [
    {
     "name": "stdout",
     "output_type": "stream",
     "text": [
      "56\n"
     ]
    }
   ],
   "source": [
    "data = []\n",
    "for file in os.listdir(expert_path):\n",
    "    with open(expert_path+file, 'r') as f:\n",
    "        data.append(f.readlines())\n",
    "print(len(data))"
   ],
   "metadata": {
    "collapsed": false
   }
  },
  {
   "cell_type": "code",
   "execution_count": 16,
   "outputs": [
    {
     "data": {
      "text/plain": "56"
     },
     "execution_count": 16,
     "metadata": {},
     "output_type": "execute_result"
    }
   ],
   "source": [
    "new_data = add_paragraphs(data)\n",
    "len(new_data)"
   ],
   "metadata": {
    "collapsed": false
   }
  },
  {
   "cell_type": "code",
   "execution_count": 17,
   "outputs": [],
   "source": [
    "data_tokenized_all = []\n",
    "data_tokenized_no_sw_punc= []\n",
    "data_tokenized_no_stopwords = []\n",
    "data_tokenized_npp = []\n",
    "\n",
    "for i in new_data:\n",
    "    data_tokenized_all.append(preprocess_all(i))\n",
    "    data_tokenized_no_sw_punc.append(no_sw_punc(i))\n",
    "    data_tokenized_no_stopwords.append(no_stopwords(i))\n",
    "    data_tokenized_npp.append(no_preprocess(i))\n"
   ],
   "metadata": {
    "collapsed": false
   }
  },
  {
   "cell_type": "code",
   "execution_count": 18,
   "outputs": [
    {
     "name": "stdout",
     "output_type": "stream",
     "text": [
      "All Preprocess\n",
      "total tokenized words:  85829\n",
      "avg tokens:  1532.6607142857142\n",
      "No Stopwords, Punctuation\n",
      "total tokenized words:  85876\n",
      "avg tokens:  1533.5\n",
      "No Stopwords\n",
      "total tokenized words:  101241\n",
      "avg tokens:  1807.875\n",
      "No preprocess\n",
      "total tokenized words:  185296\n",
      "avg tokens:  3308.8571428571427\n"
     ]
    }
   ],
   "source": [
    "print(\"All Preprocess\")\n",
    "num_tokens_expert_all, avg_tokens_expert_all = get_dataset_stat(data_tokenized_all)\n",
    "print(\"No Stopwords, Punctuation\")\n",
    "num_tokens_expert_swpun, avg_tokens_expert_swpun = get_dataset_stat(data_tokenized_no_sw_punc)\n",
    "print(\"No Stopwords\")\n",
    "num_tokens_expert_sw, avg_tokens_expert_sw = get_dataset_stat(data_tokenized_no_stopwords)\n",
    "print(\"No preprocess\")\n",
    "num_tokens_expert_npp, avg_tokens_expert_npp = get_dataset_stat(data_tokenized_npp)"
   ],
   "metadata": {
    "collapsed": false
   }
  },
  {
   "cell_type": "code",
   "execution_count": 24,
   "outputs": [],
   "source": [
    "import torch\n",
    "from torch.utils.data import TensorDataset, DataLoader, RandomSampler, SequentialSampler\n",
    "# from keras.preprocessing.sequence import pad_sequences\n",
    "# from sklearn.model_selection import train_test_split\n",
    "\n",
    "\n",
    "from pytorch_transformers import XLNetModel, XLNetTokenizer, XLNetForSequenceClassification\n",
    "# from pytorch_transformers import AdamW\n",
    "\n",
    "# from tqdm import tqdm, trange\n",
    "# import pandas as pd\n",
    "# import io\n",
    "# import numpy as np\n",
    "# import matplotlib.pyplot as plt\n",
    "# % matplotlib inline\n"
   ],
   "metadata": {
    "collapsed": false
   }
  },
  {
   "cell_type": "code",
   "execution_count": 25,
   "outputs": [
    {
     "name": "stderr",
     "output_type": "stream",
     "text": [
      "IOPub data rate exceeded.\n",
      "The notebook server will temporarily stop sending output\n",
      "to the client in order to avoid crashing it.\n",
      "To change this limit, set the config variable\n",
      "`--NotebookApp.iopub_data_rate_limit`.\n",
      "\n",
      "Current values:\n",
      "NotebookApp.iopub_data_rate_limit=1000000.0 (bytes/sec)\n",
      "NotebookApp.rate_limit_window=3.0 (secs)\n",
      "\n"
     ]
    }
   ],
   "source": [
    "for text in train.text:\n",
    "    print(text)"
   ],
   "metadata": {
    "collapsed": false
   }
  },
  {
   "cell_type": "code",
   "execution_count": 26,
   "outputs": [
    {
     "name": "stderr",
     "output_type": "stream",
     "text": [
      "100%|██████████| 798011/798011 [01:00<00:00, 13176.52B/s]\n"
     ]
    },
    {
     "name": "stdout",
     "output_type": "stream",
     "text": [
      "Tokenize the first sentence:\n",
      "['▁f', '.', '▁', 'na', 'ri', 'man', ',', '▁', 'j', '.', '▁leave', '▁granted', '.', '▁in', '▁2008', ',', '▁the', '▁', 'pun', 'ja', 'b', '▁state', '▁water', '▁supply', '▁sewer', 'age', '▁board', ',', '▁', 'bha', 't', 'inda', '▁issued', '▁number', 'ice', '▁inviting', '▁tender', '▁for', '▁extension', '▁and', '▁augment', 'ation', '▁of', '▁water', '▁supply', ',', '▁sewer', 'age', '▁scheme', ',', '▁pumping', '▁station', '▁and', '▁sewer', 'age', '▁treatment', '▁plant', '▁for', '▁various', '▁towns', '▁mentioned', '▁there', 'in', '▁on', '▁a', '▁turn', 'key', '▁basis', '.', '▁on', '▁25', '.', '9', '.', '2008', ',', '▁the', '▁app', 'ell', 'ant', '▁company', 'pan', 'y', ',', '▁which', '▁is', '▁signature', '▁not', '▁verified', '▁involved', '▁in', '▁civil', '▁electrical', '▁works', '▁in', '▁in', 'dia', ',', '▁was', '▁awarded', '▁the', '▁said', '▁digital', 'ly', '▁signed', '▁by', '▁', 'ni', 'dhi', '▁a', 'hu', 'ja', '▁date', '▁2019', '.', '03', '.', '11', '▁17', '33', '59', '▁is', 't', '▁reason', '▁tender', '▁after', '▁having', '▁been', '▁found', '▁to', '▁be', '▁the', '▁best', '▁suited', '▁for', '▁the', '▁task', '.', '▁on', '▁16', '.', '1', '.', '2009', ',', '▁a', '▁formal', '▁company', 'tract', '▁was', '▁entered', '▁into', '▁between', '▁the', '▁app', 'ell', 'ant', '▁and', '▁respond', 'ent', '▁no', '.', '▁2', '.', '▁it', '▁may', '▁be', '▁mentioned', '▁that', '▁the', '▁number', 'ice', '▁inviting', '▁tender', '▁formed', '▁part', '▁and', '▁parcel', '▁of', '▁the', '▁formal', '▁agreement', '.', '▁contained', '▁in', '▁the', '▁number', 'ice', '▁inviting', '▁tender', '▁is', '▁a', '▁detailed', '▁arbitration', '▁clause', '.', '▁in', '▁this', '▁matter', ',', '▁we', '▁are', '▁company', 'cer', 'ned', '▁with', '▁clause', '▁25', '▁v', 'iii', '▁which', '▁is', '▁set', '▁out', '▁as', '▁follows', '-', '▁v', 'iii', '.', '▁it', '▁shall', '▁be', '▁an', '▁essential', '▁term', '▁of', '▁this', '▁company', 'tract', '▁that', '▁in', '▁order', '▁to', '▁avoid', '▁frivolous', '▁claims', '▁the', '▁party', '▁in', 'vo', 'king', '▁arbitration', '▁shall', '▁specify', '▁the', '▁dispute', '▁based', '▁on', '▁facts', '▁and', '▁calculations', '▁stating', '▁the', '▁amount', '▁claimed', '▁under', '▁each', '▁claim', '▁and', '▁shall', '▁furnish', '▁a', '▁deposit', '-', 'at', '-', 'call', '▁for', '▁ten', '▁percent', '▁of', '▁the', '▁amount', '▁claimed', ',', '▁on', '▁a', '▁schedule', '▁bank', '▁in', '▁the', '▁name', '▁of', '▁the', '▁arbitrator', '▁by', '▁his', '▁official', '▁designation', '▁who', '▁shall', '▁keep', '▁the', '▁amount', '▁in', '▁deposit', '▁till', '▁the', '▁announcement', '▁of', '▁the', '▁award', '.', '▁in', '▁the', '▁event', '▁of', '▁an', '▁award', '▁in', '▁favour', '▁of', '▁the', '▁claimant', ',', '▁the', '▁deposit', '▁shall', '▁be', '▁refund', 'ed', '▁to', '▁him', '▁in', '▁proportion', '▁to', '▁the', '▁amount', '▁awarded', '▁', 'w', '.', 'r', '.', 't', '▁the', '▁amount', '▁claimed', '▁and', '▁the', '▁balance', ',', '▁if', '▁any', ',', '▁shall', '▁be', '▁forfeit', 'ed', '▁and', '▁paid', '▁to', '▁the', '▁other', '▁party', '.', '▁the', '▁app', 'ell', 'ant', '▁had', '▁entered', '▁into', '▁similar', '▁company', 'tract', 's', '▁with', '▁respond', 'ent', '▁no', '.', '▁2', '▁which', '▁company', 'tain', 'ed', '▁the', '▁same', '▁arbitration', '▁clause', '.', '▁it', '▁had', '▁therefore', '▁addressed', '▁letters', '▁to', '▁respond', 'ent', '▁no', '.', '▁2', '▁with', '▁regard', '▁to', '▁appointment', '▁of', '▁arbitrator', '▁in', '▁those', '▁matters', '▁and', '▁sought', '▁for', '▁', 'wai', 'ving', '▁the', '▁10', '▁deposit', '▁fee', '.', '▁after', '▁having', '▁received', '▁number', 're', 's', 'pon', 'se', ',', '▁the', '▁app', 'ell', 'ant', '▁had', '▁filed', '▁a', '▁writ', '▁petition', ',', '▁being', '▁civil', '▁writ', '▁petition', '▁no', '.', '▁1891', '7', '▁of', '▁2016', ',', '▁before', '▁the', '▁high', '▁court', '▁of', '▁', 'pun', 'ja', 'b', '▁and', '▁', 'har', 'yana', '.', '▁this', '▁writ', '▁petition', '▁was', '▁dismissed', '▁by', '▁a', '▁judgment', '▁dated', '▁14', '.', '9', '.', '2016', '▁stating', '▁that', '▁such', '▁tender', '▁company', 'd', 'ition', '▁can', '▁in', '▁number', 'way', '▁be', '▁said', '▁to', '▁be', '▁arbitrary', '▁or', '▁unreasonable', '.', '▁on', '▁8', '.', '3', '.', '2017', ',', '▁the', '▁app', 'ell', 'ant', '▁approached', '▁the', '▁high', '▁court', '▁of', '▁', 'pun', 'ja', 'b', '▁and', '▁', 'har', 'yana', '▁challenging', '▁the', '▁validity', '▁of', '▁this', '▁part', '▁of', '▁the', '▁arbitration', '▁clause', '▁by', '▁filing', '▁civil', '▁writ', '▁petition', '▁no', '.', '▁48', '82', '▁of', '▁2017', '.', '▁the', '▁high', '▁court', '▁in', '▁the', '▁imp', 'ug', 'ned', '▁judgment', '▁merely', '▁followed', '▁its', '▁earlier', '▁judgment', '▁and', '▁dismissed', '▁this', '▁writ', '▁petition', '▁as', '▁well', '.', '▁learned', '▁company', 'n', 'sel', '▁appearing', '▁on', '▁behalf', '▁of', '▁the', '▁app', 'ell', 'ant', '▁has', '▁argued', '▁that', '▁the', '▁arbitration', '▁clause', '▁company', 'tain', 'ed', '▁in', '▁the', '▁tender', '▁company', 'd', 'ition', '▁amounts', '▁to', '▁a', '▁company', 'tract', '▁of', '▁a', 'd', 'he', 'sion', ',', '▁and', '▁since', '▁there', '▁is', '▁unfair', '▁bargaining', '▁strength', '▁between', '▁respond', 'ent', '▁no', '.', '▁2', '▁and', '▁the', '▁app', 'ell', 'ant', ',', '▁this', '▁clause', '▁ought', '▁to', '▁be', '▁struck', '▁down', '▁following', '▁the', '▁judgment', '▁in', '▁central', '▁in', 'land', '▁water', '▁transport', '▁', 'corp', 'n', '.', '▁v', '.', '▁', 'bro', 'jo', '▁', 'nath', '▁gang', 'u', 'ly', ',', '▁1986', '▁3', '▁', 's', 'cc', '▁15', '6', '.', '▁he', '▁has', '▁also', '▁argued', '▁that', '▁arbitration', '▁being', '▁an', '▁alternative', '▁dispute', '▁resolution', '▁process', ',', '▁a', '▁10', '▁deposit', '▁would', '▁amount', '▁to', '▁a', '▁c', 'log', '▁on', '▁entering', '▁the', '▁a', 'fore', 's', 'aid', '▁process', '.', '▁further', ',', '▁claims', '▁may', '▁ultimately', '▁be', '▁found', '▁to', '▁be', '▁un', 'ten', 'able', '▁but', '▁need', '▁number', '▁be', '▁frivolous', '.', '▁also', ',', '▁frivolous', '▁claims', '▁can', '▁be', '▁company', 'pens', 'ated', '▁by', '▁heavy', '▁company', 't', 's', '.', '▁further', ',', '▁even', '▁in', '▁the', '▁event', '▁that', '▁the', '▁award', '▁is', '▁in', '▁favour', '▁of', '▁the', '▁claimant', ',', '▁what', '▁can', '▁be', '▁refund', 'ed', '▁to', '▁him', '▁is', '▁only', '▁in', '▁proportion', '▁to', '▁the', '▁amount', '▁awarded', '▁and', '▁the', '▁rest', '▁is', '▁to', '▁be', '▁forfeit', 'ed', '.', '▁this', '▁would', '▁also', '▁be', '▁a', '▁further', '▁arbitrary', '▁and', '▁high', 'handed', '▁action', '▁on', '▁the', '▁part', '▁of', '▁respond', 'ent', '▁no', '.', '▁2', '.', '▁learned', '▁company', 'n', 'sel', '▁appearing', '▁on', '▁behalf', '▁of', '▁the', '▁respondents', '▁has', '▁argued', '▁that', '▁there', '▁is', '▁number', 'in', 'fra', 'ction', '▁of', '▁article', '▁14', '▁in', '▁the', '▁present', '▁case', '.', '▁it', '▁is', '▁clear', '▁that', '▁clause', '▁25', '▁v', 'iii', '▁would', '▁apply', '▁to', '▁both', '▁the', '▁parties', '▁equally', ',', '▁and', '▁as', '▁this', '▁is', '▁so', ',', '▁the', '▁said', '▁sub', '-', 'cla', 'use', '▁cannot', '▁be', '▁struck', '▁down', '▁as', '▁being', '▁', 'discriminat', 'ory', '.', '▁further', ',', '▁the', '▁principle', '▁company', 'tain', 'ed', '▁in', '▁central', '▁in', 'land', '▁water', '▁transport', '▁', 'corp', 'n', '.', '▁supra', '▁cannot', '▁possibly', '▁be', '▁applied', '▁to', '▁company', 'mer', 'cial', '▁company', 'tract', 's', '.', '▁also', ',', '▁in', '▁similar', '▁cases', ',', '▁this', '▁court', '▁has', '▁number', '▁entertained', '▁this', '▁kind', '▁of', '▁a', '▁challenge', '.', '▁having', '▁heard', '▁learned', '▁company', 'n', 'sel', '▁for', '▁both', '▁parties', ',', '▁it', '▁will', '▁be', '▁seen', '▁that', '▁the', '▁10', '▁deposit', '-', 'at', '-', 'call', '▁before', '▁a', '▁party', '▁can', '▁successfully', '▁invoke', '▁the', '▁arbitration', '▁clause', '▁is', '▁on', '▁the', '▁basis', '▁that', '▁this', '▁is', '▁in', '▁order', '▁to', '▁avoid', '▁frivolous', '▁claims', '.', '▁clause', '▁25', '▁x', 'v', '▁is', '▁also', '▁material', '▁and', '▁is', '▁set', '▁out', '▁herein', 'be', 'low', '▁x', 'v', '.', '▁no', '▁question', '▁relating', '▁to', '▁this', '▁company', 'tract', '▁shall', '▁be', '▁brought', '▁before', '▁any', '▁civil', '▁company', 'rt', '▁without', '▁first', '▁in', 'vo', 'king', '▁and', '▁company', 'ple', 'ting', '▁the', '▁arbitration', '▁proceedings', ',', '▁if', '▁the', '▁issue', '▁is', '▁company', 'ered', '▁by', '▁the', '▁scope', '▁of', '▁arbitration', '▁under', '▁this', '▁company', 'tract', '.', '▁the', '▁pending', '▁arbitration', '▁proceedings', '▁shall', '▁number', '▁dis', 'en', 'title', '▁the', '▁engineer', '-', 'in', '-', 'charge', '▁to', '▁terminate', '▁the', '▁company', 'tract', '▁and', '▁to', '▁make', '▁alternate', '▁arrangements', '▁for', '▁company', 'ple', 'tion', '▁of', '▁the', '▁works', '.', '▁from', '▁this', '▁clause', ',', '▁it', '▁also', '▁becomes', '▁clear', '▁that', '▁arbitration', '▁is', '▁company', 'side', 'red', '▁to', '▁be', '▁an', '▁alternative', '▁dispute', '▁resolution', '▁process', '▁and', '▁entry', '▁to', '▁the', '▁civil', '▁company', 'rt', '▁is', '▁sought', '▁to', '▁be', '▁taken', '▁away', '▁if', '▁the', '▁disputes', '▁between', '▁the', '▁parties', '▁are', '▁company', 'ered', '▁by', '▁the', '▁arbitration', '▁clause', '.', '▁it', '▁is', '▁well', '▁settled', '▁that', '▁the', '▁terms', '▁of', '▁an', '▁invitation', '▁to', '▁tender', '▁are', '▁number', '▁open', '▁to', '▁judicial', '▁scrutiny', ',', '▁as', '▁they', '▁are', '▁in', '▁the', '▁realm', '▁of', '▁company', 'tract', ',', '▁unless', '▁they', '▁are', '▁arbitrary', ',', '▁', 'discriminat', 'ory', ',', '▁or', '▁a', 'ctu', 'ated', '▁by', '▁', 'mal', 'ice', '.', '▁thus', ',', '▁in', '▁director', 'ate', '▁of', '▁education', '▁v', '.', '▁', 'edu', 'comp', '▁data', 'matic', 's', '▁', 'lt', 'd', '.', ',', '▁2004', '▁4', '▁', 's', 'cc', '▁19', ',', '▁this', '▁court', '▁held', '▁it', '▁is', '▁well', '▁settled', '▁number', '▁that', '▁the', '▁company', 'rt', 's', '▁can', '▁', 's', 'cru', 'tin', 'ise', '▁the', '▁award', '▁of', '▁the', '▁company', 'tract', 's', '▁by', '▁the', '▁government', '▁or', '▁its', '▁agencies', '▁in', '▁exercise', '▁of', '▁their', '▁powers', '▁of', '▁judicial', '▁review', '▁to', '▁prevent', '▁', 'ar', 'bit', 'r', 'ari', 'ness', '▁or', '▁favour', 'it', 'ism', '.', '▁however', ',', '▁there', '▁are', '▁inherent', '▁limitations', '▁in', '▁the', '▁exercise', '▁of', '▁the', '▁power', '▁of', '▁judicial', '▁review', '▁in', '▁such', '▁matters', '.', '▁the', '▁point', '▁as', '▁to', '▁the', '▁extent', '▁of', '▁judicial', '▁review', '▁permissible', '▁in', '▁company', 'tract', 'ual', '▁matters', '▁while', '▁inviting', '▁bids', '▁by', '▁issuing', '▁tender', 's', '▁has', '▁been', '▁examined', '▁in', '▁depth', '▁by', '▁this', '▁court', '▁in', '▁', 't', 'ata', '▁cellular', '▁v', '.', '▁union', '▁of', '▁in', 'dia', '▁1994', '▁6', '▁', 's', 'cc', '▁65', '1', '.', '▁after', '▁examining', '▁the', '▁entire', '▁case', '-', 'law', '▁the', '▁following', '▁principles', '▁have', '▁been', '▁de', 'duc', 'ed', '▁the', '▁principles', '▁de', 'duc', 'ible', '▁from', '▁the', '▁above', '▁are', '▁the', '▁modern', '▁trend', '▁points', '▁to', '▁judicial', '▁restraint', '▁in', '▁administrative', '▁action', '.', '▁the', '▁company', 'rt', '▁does', '▁number', '▁sit', '▁as', '▁a', '▁company', 'rt', '▁of', '▁appeal', '▁but', '▁merely', '▁reviews', '▁the', '▁manner', '▁in', '▁which', '▁the', '▁decision', '▁was', '▁made', '.', '▁the', '▁company', 'rt', '▁does', '▁number', '▁have', '▁the', '▁expertise', '▁to', '▁company', 'rect', '▁the', '▁administrative', '▁decision', '.', '▁if', '▁a', '▁review', '▁of', '▁the', '▁administrative', '▁decision', '▁is', '▁permitted', '▁it', '▁will', '▁be', '▁sub', 's', 'titu', 'ting', '▁its', '▁own', '▁decision', ',', '▁without', '▁the', '▁necessary', '▁expertise', '▁which', '▁itself', '▁may', '▁be', '▁fall', 'ible', '.', '▁the', '▁terms', '▁of', '▁the', '▁invitation', '▁to', '▁tender', '▁cannot', '▁be', '▁open', '▁to', '▁judicial', '▁scrutiny', '▁because', '▁the', '▁invitation', '▁to', '▁tender', '▁is', '▁in', '▁the', '▁realm', '▁of', '▁company', 'tract', '.', '▁normally', '▁speaking', ',', '▁the', '▁decision', '▁to', '▁accept', '▁the', '▁tender', '▁or', '▁award', '▁the', '▁company', 'tract', '▁is', '▁reached', '▁by', '▁process', '▁of', '▁negotiations', '▁through', '▁several', '▁', 'tier', 's', '.', '▁more', '▁often', '▁than', '▁number', ',', '▁such', '▁decisions', '▁are', '▁made', '▁qualitative', 'ly', '▁by', '▁experts', '.', '▁the', '▁government', '▁must', '▁have', '▁freedom', '▁of', '▁company', 'tract', '.', '▁in', '▁other', '▁words', ',', '▁a', '▁fair', '▁play', '▁in', '▁the', '▁joint', 's', '▁is', '▁a', '▁necessary', '▁company', 'com', 'itan', 't', '▁for', '▁an', '▁administrative', '▁body', '▁functioning', '▁in', '▁an', '▁administrative', '▁sphere', '▁or', '▁quasi', '-', 'ad', 'mini', 'str', 'ative', '▁sphere', '.', '▁however', ',', '▁the', '▁decision', '▁must', '▁number', '▁only', '▁be', '▁tested', '▁by', '▁the', '▁application', '▁of', '▁we', 'd', 'ne', 'sbury', '▁principle', '▁of', '▁reasonable', 'ness', '▁including', '▁its', '▁other', '▁facts', '▁pointed', '▁out', '▁above', '▁but', '▁must', '▁be', '▁free', '▁from', '▁', 'ar', 'bit', 'r', 'ari', 'ness', '▁number', '▁affected', '▁by', '▁bias', '▁or', '▁a', 'ctu', 'ated', '▁by', '▁', 'mala', '▁f', 'ides', '.', '▁', 'qua', 'shing', '▁decisions', '▁may', '▁impose', '▁heavy', '▁administrative', '▁burden', '▁on', '▁the', '▁administration', '▁and', '▁lead', '▁to', '▁increased', '▁and', '▁un', 'budget', 'ed', '▁expenditure', '.', '▁emphasis', '▁in', '▁original', '▁it', '▁has', '▁clearly', '▁been', '▁held', '▁in', '▁these', '▁decisions', '▁that', '▁the', '▁terms', '▁of', '▁the', '▁invitation', '▁to', '▁tender', '▁are', '▁number', '▁open', '▁to', '▁judicial', '▁scrutiny', ',', '▁the', '▁same', '▁being', '▁in', '▁the', '▁realm', '▁of', '▁company', 'tract', '.', '▁that', '▁the', '▁government', '▁must', '▁have', '▁a', '▁free', '▁hand', '▁in', '▁setting', '▁the', '▁terms', '▁of', '▁the', '▁tender', '.', '▁it', '▁must', '▁have', '▁reasonable', '▁play', '▁in', '▁its', '▁joint', 's', '▁as', '▁a', '▁necessary', '▁company', 'com', 'itan', 't', '▁for', '▁an', '▁administrative', '▁body', '▁in', '▁an', '▁administrative', '▁sphere', '.', '▁the', '▁company', 'rt', 's', '▁would', '▁interfere', '▁with', '▁the', '▁administrative', '▁policy', '▁decision', '▁only', '▁if', '▁it', '▁is', '▁arbitrary', ',', '▁', 'discriminat', 'ory', ',', '▁', 'mala', '▁f', 'ide', '▁or', '▁a', 'ctu', 'ated', '▁by', '▁bias', '.', '▁it', '▁is', '▁entitled', '▁to', '▁pragmatic', '▁adjustments', '▁which', '▁may', '▁be', '▁called', '▁for', '▁by', '▁the', '▁particular', '▁circumstances', '.', '▁the', '▁company', 'rt', 's', '▁cannot', '▁strike', '▁down', '▁the', '▁terms', '▁of', '▁the', '▁tender', '▁prescribed', '▁by', '▁the', '▁government', '▁because', '▁it', '▁feels', '▁that', '▁some', '▁other', '▁terms', '▁in', '▁the', '▁tender', '▁would', '▁have', '▁been', '▁fair', ',', '▁wise', 'r', '▁or', '▁logical', '.', '▁the', '▁company', 'rt', 's', '▁can', '▁interfere', '▁only', '▁if', '▁the', '▁policy', '▁decision', '▁is', '▁arbitrary', ',', '▁', 'discriminat', 'ory', '▁or', '▁', 'mala', '▁f', 'ide', '.', '▁to', '▁similar', '▁effect', '▁is', '▁the', '▁decision', '▁in', '▁global', '▁energy', '▁', 'lt', 'd', '.', '▁v', '.', '▁a', 'd', 'ani', '▁exports', '▁', 'lt', 'd', '.', ',', '▁2005', '▁4', '▁', 's', 'cc', '▁4', '35', ',', '▁where', '▁this', '▁court', '▁held', '▁the', '▁principle', '▁is', ',', '▁therefore', ',', '▁well', '▁settled', '▁that', '▁the', '▁terms', '▁of', '▁the', '▁invitation', '▁to', '▁tender', '▁are', '▁number', '▁open', '▁to', '▁judicial', '▁scrutiny', '▁and', '▁the', '▁company', 'rt', 's', '▁cannot', '▁wh', 'i', 'ttle', '▁down', '▁the', '▁terms', '▁of', '▁the', '▁tender', '▁as', '▁they', '▁are', '▁in', '▁the', '▁realm', '▁of', '▁company', 'tract', '▁unless', '▁they', '▁are', '▁wholly', '▁arbitrary', ',', '▁', 'discriminat', 'ory', '▁or', '▁a', 'ctu', 'ated', '▁by', '▁', 'mal', 'ice', '.', '▁this', '▁being', '▁the', '▁position', '▁of', '▁law', ',', '▁settled', '▁by', '▁a', '▁cat', 'ena', '▁of', '▁decisions', '▁of', '▁this', '▁court', ',', '▁it', '▁is', '▁rather', '▁surprising', '▁that', '▁the', '▁learned', '▁single', '▁judge', '▁passed', '▁an', '▁interim', '▁direction', '▁on', '▁the', '▁very', '▁first', '▁day', '▁of', '▁admission', '▁hearing', '▁of', '▁the', '▁writ', '▁petition', '▁and', '▁allowed', '▁the', '▁app', 'ell', 'ants', '▁to', '▁deposit', '▁the', '▁earnest', '▁money', '▁by', '▁furnish', 'ing', '▁a', '▁bank', '▁guarantee', '▁or', '▁a', '▁bankers', '▁cheque', '▁till', '▁three', '▁days', '▁after', '▁the', '▁actual', '▁date', '▁of', '▁opening', '▁of', '▁the', '▁tender', '.', '▁the', '▁order', '▁of', '▁the', '▁learned', '▁single', '▁judge', '▁being', '▁wholly', '▁illegal', ',', '▁was', ',', '▁therefore', ',', '▁right', 'ly', '▁set', '▁aside', '▁by', '▁the', '▁division', '▁bench', '.', '▁as', '▁has', '▁company', 'rect', 'ly', '▁been', '▁argued', '▁by', '▁learned', '▁company', 'n', 'sel', '▁appearing', '▁on', '▁behalf', '▁of', '▁the', '▁respondents', ',', '▁this', '▁company', 'rt', 's', '▁judgment', '▁in', '▁central', '▁in', 'land', '▁water', '▁transport', '▁', 'corp', 'n', '.', '▁supra', '▁', ',', '▁which', '▁lay', 's', '▁down', '▁that', '▁company', 'tract', 's', '▁of', '▁a', 'd', 'he', 'sion', ',', '▁', 'i', '.', 'e', '.', ',', '▁company', 'tract', 's', '▁in', '▁which', '▁there', '▁is', '▁unequal', '▁bargaining', '▁power', ',', '▁between', '▁private', '▁persons', '▁and', '▁the', '▁state', '▁are', '▁liable', '▁to', '▁be', '▁set', '▁aside', '▁on', '▁the', '▁ground', '▁that', '▁they', '▁are', '▁un', 'cons', 'cion', 'able', ',', '▁does', '▁number', '▁apply', '▁where', '▁both', '▁parties', '▁are', '▁businessmen', '▁and', '▁the', '▁company', 'tract', '▁is', '▁a', '▁company', 'mer', 'cial', '▁transaction', '▁see', '▁paragraph', '▁89', '▁of', '▁the', '▁said', '▁judgment', '▁', '.', '▁in', '▁this', '▁view', '▁of', '▁the', '▁matter', ',', '▁the', '▁argument', '▁of', '▁the', '▁app', 'ell', 'ant', '▁based', '▁on', '▁this', '▁judgment', '▁must', '▁fail', '.', '▁in', '▁', 's', '.', 'k', '.', '▁', 'ja', 'in', '▁v', '.', '▁state', '▁of', '▁', 'har', 'yana', ',', '▁2009', '▁4', '▁', 's', 'cc', '▁35', '7', ',', '▁this', '▁court', '▁dealt', '▁with', '▁an', '▁arbitration', '▁clause', '▁in', '▁an', '▁agreement', '▁which', '▁read', '▁as', '▁follows', '-', '▁sub', '-', 'cla', 'use', '▁7', '▁of', '▁clause', '▁25', '-', 'a', '▁of', '▁the', '▁agreement', '▁reads', '▁as', '▁follows', '▁25', '-', 'a', '.', '▁7', '▁it', '▁is', '▁also', '▁a', '▁term', '▁of', '▁this', '▁company', 'tract', '▁agreement', '▁that', '▁where', '▁the', '▁party', '▁in', 'vo', 'king', '▁arbitration', '▁is', '▁the', '▁company', 'tract', 'or', ',', '▁number', 'reference', '▁for', '▁arbitration', '▁shall', '▁be', '▁maintain', 'able', '▁unless', '▁the', '▁company', 'tract', 'or', '▁furnish', 'es', '▁to', '▁the', '▁satisfaction', '▁of', '▁the', '▁executive', '▁engineer', '▁in', '▁charge', '▁of', '▁the', '▁work', ',', '▁a', '▁security', '▁deposit', '▁of', '▁a', '▁sum', '▁determined', '▁according', '▁to', '▁details', '▁given', '▁below', '▁and', '▁the', '▁sum', '▁so', '▁deposited', '▁shall', ',', '▁on', '▁the', '▁termination', '▁of', '▁the', '▁arbitration', '▁proceedings', '▁be', '▁adjusted', '▁against', '▁the', '▁company', 't', 's', ',', '▁if', '▁any', ',', '▁awarded', '▁by', '▁the', '▁arbitrator', '▁against', '▁the', '▁claimant', '▁party', '▁and', '▁the', '▁balance', '▁remaining', '▁after', '▁such', '▁adjustment', '▁in', '▁the', '▁absence', '▁of', '▁any', '▁such', '▁company', 't', 's', '▁being', '▁awarded', ',', '▁the', '▁whole', '▁of', '▁the', '▁sum', '▁will', '▁be', '▁refund', 'ed', '▁to', '▁him', '▁within', '▁one', '▁month', '▁from', '▁the', '▁date', '▁of', '▁the', '▁award', '▁amount', '▁of', '▁claim', '▁rate', '▁of', '▁security', '▁deposit', '▁1', 'for', '▁claims', '▁below', '▁', 'rs', '▁2', '▁of', '▁amount', '▁', '.', '▁10,000', '▁claimed', '▁2', 'for', '▁claims', '▁of', '▁', 'rs', '▁10,000', '▁5', '▁of', '▁amount', '▁', '.', '▁and', '▁above', '▁and', '▁below', '▁', 'rs', '▁claimed', '▁1', ',', '00', ',', '000', '▁and', '▁3', 'for', '▁claims', '▁of', '▁', 'rs', '▁1', ',', '00', ',', '000', '▁7', '▁of', '▁amount', '▁', '.', '▁and', '▁above', '▁claimed', '.', '▁in', '▁up', 'holding', '▁such', '▁a', '▁clause', ',', '▁this', '▁court', '▁referred', '▁to', '▁the', '▁judgment', '▁in', '▁central', '▁in', 'land', '▁water', '▁transport', '▁', 'corp', 'n', '.', '▁supra', '▁and', '▁distinguished', '▁this', '▁judgment', ',', '▁stating', '▁that', '▁the', '▁company', 'cept', '▁of', '▁unequal', '▁bargaining', '▁power', '▁has', '▁number', 'application', '▁in', '▁the', '▁case', '▁of', '▁company', 'mer', 'cial', '▁company', 'tract', 's', '.', '▁it', '▁then', '▁went', '▁on', '▁to', '▁hold', '-', '▁it', '▁has', '▁been', '▁submitted', '▁by', '▁learned', '▁company', 'n', 'sel', '▁for', '▁the', '▁app', 'ell', 'ant', '▁that', '▁there', '▁should', '▁be', '▁a', '▁cap', '▁in', '▁the', '▁quantum', '▁payable', '▁in', '▁terms', '▁of', '▁sub', '-', 'cla', 'use', '▁7', '▁of', '▁clause', '▁25', '-', 'a', '.', '▁this', '▁plea', '▁is', '▁clearly', '▁without', '▁substance', '.', '▁it', '▁is', '▁to', '▁be', '▁numbered', '▁that', '▁it', '▁is', '▁structured', '▁on', '▁the', '▁basis', '▁of', '▁the', '▁quantum', '▁involved', '.', '▁higher', '▁the', '▁claim', ',', '▁the', '▁higher', '▁is', '▁the', '▁amount', '▁of', '▁fee', '▁charge', 'able', '.', '▁there', '▁is', '▁a', '▁logic', '▁in', '▁it', '.', '▁it', '▁is', '▁the', '▁balancing', '▁factor', '▁to', '▁prevent', '▁frivolous', '▁and', '▁inflated', '▁claims', '.', '▁if', '▁the', '▁app', 'ell', 'ants', '▁plea', '▁is', '▁accepted', '▁that', '▁there', '▁should', '▁be', '▁a', '▁cap', '▁in', '▁the', '▁figure', ',', '▁a', '▁claimant', '▁who', '▁is', '▁making', '▁higher', '▁claim', '▁stands', '▁on', '▁a', '▁better', '▁pedestal', '▁than', '▁one', '▁who', '▁makes', '▁a', '▁claim', '▁of', '▁a', '▁lesser', '▁amount', '.', '▁it', '▁will', '▁be', '▁number', 'ic', 'ed', '▁that', '▁in', '▁this', '▁judgment', '▁there', '▁was', '▁number', 'ple', 'a', '▁that', '▁the', '▁a', 'fore', 's', 'aid', '▁company', 'd', 'ition', '▁company', 'tain', 'ed', '▁in', '▁an', '▁arbitration', '▁clause', '▁was', '▁viol', 'ative', '▁of', '▁article', '▁14', '▁of', '▁the', '▁constitution', '▁of', '▁in', 'dia', '▁as', '▁such', '▁clause', '▁is', '▁arbitrary', '.', '▁the', '▁only', '▁plea', 's', '▁taken', '▁were', '▁that', '▁the', '▁ratio', '▁of', '▁central', '▁in', 'land', '▁water', '▁transport', '▁', 'corp', 'n', '.', '▁supra', '▁would', '▁apply', '▁and', '▁that', '▁there', '▁should', '▁be', '▁a', '▁cap', '▁in', '▁the', '▁quantum', '▁payable', '▁by', '▁way', '▁of', '▁security', '▁deposit', ',', '▁both', '▁of', '▁which', '▁plea', 's', '▁were', '▁turned', '▁down', '▁by', '▁this', '▁company', 'rt', '.', '▁also', ',', '▁the', '▁security', '▁deposit', '▁made', '▁would', ',', '▁on', '▁the', '▁termination', '▁of', '▁the', '▁arbitration', '▁proceedings', ',', '▁first', '▁be', '▁adjusted', '▁against', '▁company', 't', 's', '▁if', '▁any', '▁awarded', '▁by', '▁the', '▁arbitrator', '▁against', '▁the', '▁claimant', '▁party', ',', '▁and', '▁the', '▁balance', '▁remaining', '▁after', '▁such', '▁adjustment', '▁then', '▁be', '▁refund', 'ed', '▁to', '▁the', '▁party', '▁making', '▁the', '▁deposit', '.', '▁this', '▁clause', '▁is', '▁material', 'ly', '▁different', '▁from', '▁clause', '▁25', '▁v', 'iii', '▁', ',', '▁which', ',', '▁as', '▁we', '▁have', '▁seen', ',', '▁makes', '▁it', '▁clear', '▁that', '▁in', '▁all', '▁cases', '▁the', '▁deposit', '▁is', '▁to', '▁be', '▁10', '▁of', '▁the', '▁amount', '▁claimed', '▁and', '▁that', '▁refund', '▁can', '▁only', '▁be', '▁in', '▁proportion', '▁to', '▁the', '▁amount', '▁awarded', '▁with', '▁respect', '▁to', '▁the', '▁amount', '▁claimed', ',', '▁the', '▁balance', '▁being', '▁forfeit', 'ed', '▁and', '▁paid', '▁to', '▁the', '▁other', '▁party', ',', '▁even', '▁though', '▁that', '▁other', '▁party', '▁may', '▁have', '▁lost', '▁the', '▁case', '.', '▁this', '▁being', '▁so', ',', '▁this', '▁judgment', '▁is', '▁wholly', '▁', 'distinguishable', '▁and', '▁does', '▁number', '▁apply', '▁at', '▁all', '▁to', '▁the', '▁facts', '▁of', '▁the', '▁present', '▁case', '.', '▁in', '▁a', 'bl', '▁international', '▁', 'lt', 'd', '.', '▁v', '.', '▁export', '▁credit', '▁guarantee', '▁', 'corp', 'n', '.', '▁of', '▁in', 'dia', '▁', 'lt', 'd', '.', ',', '▁2004', '▁3', '▁', 's', 'cc', '▁55', '3', ',', '▁this', '▁court', '▁has', '▁held', '▁that', '▁even', '▁within', '▁the', '▁company', 'tract', 'ual', '▁sphere', ',', '▁the', '▁requirement', '▁of', '▁article', '▁14', '▁to', '▁act', '▁fairly', ',', '▁just', 'ly', '▁and', '▁reasonably', '▁by', '▁persons', '▁who', '▁are', '▁state', '▁authorities', '▁or', '▁instrumental', 'ities', '▁company', 'tin', 'ue', 's', '.', '▁thus', ',', '▁this', '▁court', '▁held', '▁it', '▁is', '▁clear', '▁from', '▁the', '▁above', '▁observations', '▁of', '▁this', '▁court', ',', '▁once', '▁the', '▁state', '▁or', '▁an', '▁instrumental', 'ity', '▁of', '▁the', '▁state', '▁is', '▁a', '▁party', '▁of', '▁the', '▁company', 'tract', ',', '▁it', '▁has', '▁an', '▁obligation', '▁in', '▁law', '▁to', '▁act', '▁fairly', ',', '▁just', 'ly', '▁and', '▁reasonably', '▁which', '▁is', '▁the', '▁requirement', '▁of', '▁article', '▁14', '▁of', '▁the', '▁constitution', '▁of', '▁in', 'dia', '.', '▁therefore', ',', '▁if', '▁by', '▁the', '▁imp', 'ug', 'ned', '▁rep', 'udi', 'ation', '▁of', '▁the', '▁claim', '▁of', '▁the', '▁app', 'ell', 'ants', '▁the', '▁first', '▁respond', 'ent', '▁as', '▁an', '▁instrumental', 'ity', '▁of', '▁the', '▁state', '▁has', '▁acted', '▁in', '▁company', 'tra', 'vention', '▁of', '▁the', '▁above', 's', 'aid', '▁requirement', '▁of', '▁article', '▁14', ',', '▁then', '▁we', '▁have', '▁number', 'he', 'si', 'tation', '▁in', '▁holding', '▁that', '▁a', '▁writ', '▁company', 'rt', '▁can', '▁issue', '▁suitable', '▁directions', '▁to', '▁set', '▁right', '▁the', '▁arbitrary', '▁actions', '▁of', '▁the', '▁first', '▁respond', 'ent', '▁', 'xxx', '▁', 'xxx', '▁', 'xxx', '▁from', '▁the', '▁above', '▁discussion', '▁of', '▁our', 's', ',', '▁the', '▁following', '▁legal', '▁principles', '▁emerge', '▁as', '▁to', '▁the', '▁maintain', 'ability', '▁of', '▁a', '▁writ', '▁petition', '▁in', '▁an', '▁appropriate', '▁case', ',', '▁a', '▁writ', '▁petition', '▁as', '▁against', '▁a', '▁state', '▁or', '▁an', '▁instrumental', 'ity', '▁of', '▁a', '▁state', '▁arising', '▁out', '▁of', '▁a', '▁company', 'tract', 'ual', '▁obligation', '▁is', '▁maintain', 'able', '.', '▁', 'xxx', '▁', 'xxx', '▁', 'xxx', '▁from', '▁the', '▁above', ',', '▁it', '▁is', '▁clear', '▁that', '▁when', '▁an', '▁instrumental', 'ity', '▁of', '▁the', '▁state', '▁acts', '▁company', 'tra', 'ry', '▁to', '▁public', '▁good', '▁and', '▁public', '▁interest', ',', '▁unfairly', ',', '▁unjust', 'ly', '▁and', '▁unre', 'a', 'son', 'ably', ',', '▁in', '▁its', '▁company', 'tract', 'ual', ',', '▁company', 's', 'titu', 't', 'ional', '▁or', '▁statutory', '▁obligations', ',', '▁it', '▁really', '▁acts', '▁company', 'tra', 'ry', '▁to', '▁the', '▁company', 's', 'titu', 't', 'ional', '▁guarantee', '▁found', '▁in', '▁article', '▁14', '▁of', '▁the', '▁constitution', '▁thus', ',', '▁it', '▁must', '▁be', '▁seen', '▁as', '▁to', '▁whether', '▁the', '▁a', 'fore', 's', 'aid', '▁clause', '▁25', '▁v', 'iii', '▁can', '▁be', '▁said', '▁to', '▁be', '▁arbitrary', '▁or', '▁', 'discriminat', 'ory', '▁and', '▁viol', 'ative', '▁of', '▁article', '▁14', '▁of', '▁the', '▁constitution', '▁of', '▁in', 'dia', '.', '▁we', '▁agree', '▁with', '▁the', '▁learned', '▁company', 'n', 'sel', '▁for', '▁the', '▁respondents', '▁that', '▁the', '▁a', 'fore', 's', 'aid', '▁clause', '▁cannot', '▁be', '▁said', '▁to', '▁be', '▁', 'discriminat', 'ory', '▁in', '▁that', '▁it', '▁applies', '▁equally', '▁to', '▁both', '▁respond', 'ent', '▁no', '.', '▁2', '▁and', '▁the', '▁app', 'ell', 'ant', '.', '▁however', ',', '▁', 'ar', 'bit', 'r', 'ari', 'ness', '▁is', '▁a', '▁separate', '▁and', '▁distinct', '▁face', 't', '▁of', '▁article', '▁14', '.', '▁in', '▁a', '.', 'l', '.', '▁', 'kal', 'ra', '▁v', '.', '▁the', '▁project', '▁equipment', '▁corporation', '▁of', '▁in', 'dia', '▁limited', ',', '▁1984', '▁3', '▁', 's', '.', 'c', '.', 'r', '.', '▁64', '6', ',', '▁this', '▁court', '▁turned', '▁down', '▁a', '▁submission', '▁that', '▁', 'ar', 'bit', 'r', 'ari', 'ness', '▁is', '▁only', '▁a', '▁face', 't', '▁of', '▁discrimination', '.', '▁the', '▁company', 'tention', '▁of', '▁', 's', 'hri', '▁', 'l', 'al', '▁', 'na', 'rain', '▁sin', 'ha', '▁was', '▁recorded', '▁thus', '▁at', '▁page', '▁66', '1', '▁', '-', '▁it', '▁was', '▁urged', '▁that', '▁in', '▁the', '▁absence', '▁of', '▁any', '▁specific', '▁pleading', '▁pointing', '▁out', '▁whether', '▁any', '▁one', '▁else', '▁was', '▁either', '▁similarly', '▁situated', '▁as', '▁the', '▁app', 'ell', 'ant', '▁or', '▁dis', 'similar', 'ly', '▁treated', '▁the', '▁charge', '▁of', '▁discrimination', '▁cannot', '▁be', '▁entertained', '▁and', '▁number', 're', 'lie', 'f', '▁can', '▁be', '▁claimed', '▁on', '▁the', '▁allegation', '▁of', '▁company', 'tra', 'vention', '▁of', '▁art', '.', '▁14', '▁or', '▁art', '.', '▁16', '▁of', '▁the', '▁constitution', '.', '▁it', '▁was', '▁submitted', '▁that', '▁the', '▁expression', '▁discrimination', '▁imports', '▁the', '▁company', 'cept', '▁of', '▁company', 'pari', 'son', '▁between', '▁equal', 's', '▁and', '▁if', '▁the', '▁result', 'ant', '▁inequality', '▁is', '▁pointed', '▁out', '▁in', '▁the', '▁treatment', '▁so', '▁met', 'ed', '▁out', '▁the', '▁charge', '▁of', '▁discrimination', '▁can', '▁be', '▁entertained', '▁and', '▁one', '▁can', '▁say', '▁that', '▁equal', '▁protection', '▁of', '▁law', '▁has', '▁been', '▁denied', '.', '▁expanding', '▁the', '▁submission', ',', '▁it', '▁was', '▁urged', '▁that', '▁the', '▁use', '▁of', '▁the', '▁expression', '▁equality', '▁in', '▁art', '.', '▁14', '▁imports', '▁dual', 'ity', '▁and', '▁company', 'pari', 'son', '▁which', '▁is', '▁pre', 'dicate', 'd', '▁upon', '▁more', '▁than', '▁one', '▁person', '▁of', '▁situation', '▁and', '▁in', '▁the', '▁absence', '▁of', '▁available', '▁material', '▁for', '▁company', 'pari', 'son', ',', '▁the', '▁plea', '▁of', '▁discrimination', '▁must', '▁fail', '.', '▁as', '▁a', '▁company', 'o', 'll', 'ary', ',', '▁it', '▁was', '▁urged', '▁that', '▁in', '▁the', '▁absence', '▁of', '▁material', '▁for', '▁company', 'par', 'ative', '▁evaluation', '▁number', '▁only', '▁the', '▁charge', '▁of', '▁discrimination', '▁cannot', '▁be', '▁sustained', '▁but', '▁the', '▁executive', '▁action', '▁cannot', '▁be', '▁struck', '▁down', '▁on', '▁the', '▁ground', '▁that', '▁the', '▁action', '▁is', '▁per', '▁', 'se', '▁arbitrary', '.', '▁this', '▁company', 'tention', '▁was', '▁negative', 'd', '▁stating', '▁at', '▁pages', '▁66', '2', '-', '66', '3', '▁', '-', '▁it', '▁thus', '▁appears', '▁well', '▁settled', '▁that', '▁art', '.', '▁14', '▁strikes', '▁at', '▁', 'ar', 'bit', 'r', 'ari', 'ness', '▁in', '▁executive', '▁administrative', '▁action', '▁because', '▁any', '▁action', '▁that', '▁is', '▁arbitrary', '▁must', '▁necessarily', '▁involve', '▁the', '▁neg', 'ation', '▁of', '▁equality', '.', '▁one', '▁need', '▁number', '▁company', 'fine', '▁the', '▁denial', '▁of', '▁equality', '▁to', '▁a', '▁company', 'par', 'ative', '▁evaluation', '▁between', '▁two', '▁persons', '▁to', '▁arrive', '▁at', '▁a', '▁company', 'c', 'lusion', '▁of', '▁', 'discriminat', 'ory', '▁treatment', '.', '▁an', '▁action', '▁per', '▁', 'se', '▁arbitrary', '▁itself', '▁denies', '▁equal', '▁of', '▁protection', '▁by', '▁law', '.', '▁the', '▁constitution', '▁bench', '▁pertinent', 'ly', '▁observed', '▁in', '▁a', 'jay', '▁has', 'ias', '▁case', '▁1981', '▁2', '▁', 's', '.', 'c', '.', 'r', '.', '▁79', '▁and', '▁put', '▁the', '▁matter', '▁beyond', '▁company', 'tro', 'vers', 'y', '▁when', '▁it', '▁said', '▁wherever', '▁therefore', ',', '▁there', '▁is', '▁', 'ar', 'bit', 'r', 'ari', 'ness', '▁in', '▁state', '▁action', '▁whether', '▁it', '▁be', '▁of', '▁the', '▁legislature', '▁or', '▁of', '▁the', '▁executive', '▁or', '▁of', '▁an', '▁authority', '▁under', '▁article', '▁12', ',', '▁article', '▁14', '▁immediately', '▁spring', 's', '▁into', '▁action', '▁and', '▁strikes', '▁down', '▁such', '▁state', '▁action', '.', '▁this', '▁view', '▁was', '▁further', '▁elaborate', 'd', '▁and', '▁affirmed', '▁in', '▁', 'd', '.', 's', '.', '▁', 'na', 'kara', '▁v', '.', '▁union', '▁of', '▁in', 'dia', '▁1983', '▁1', '▁', 's', 'cc', '▁30', '5', '.', '▁in', '▁man', 'e', 'ka', '▁', 'gan', 'dhi', '▁v', '.', '▁union', '▁of', '▁in', 'dia', '▁1978', '▁2', '▁', 's', '.', 'c', '.', 'r', '.', '▁6', '21', '▁it', '▁was', '▁observed', '▁that', '▁art', '.', '▁14', '▁strikes', '▁at', '▁', 'ar', 'bit', 'r', 'ari', 'ness', '▁in', '▁state', '▁action', '▁and', '▁ensure', '▁fairness', '▁and', '▁equality', '▁of', '▁treatment', '.', '▁it', '▁is', '▁thus', '▁too', '▁late', '▁in', '▁the', '▁day', '▁to', '▁company', 't', 'end', '▁that', '▁an', '▁executive', '▁action', '▁shown', '▁to', '▁be', '▁arbitrary', '▁is', '▁number', '▁either', '▁judicial', 'ly', '▁review', 'able', '▁or', '▁within', '▁the', '▁reach', '▁of', '▁article', '▁14', '.', '▁we', '▁have', '▁thus', '▁to', '▁see', '▁whether', '▁clause', '▁25', '▁v', 'iii', '▁can', '▁be', '▁said', '▁to', '▁be', '▁arbitrary', '▁and', '▁viol', 'ative', '▁of', '▁article', '▁14', '▁of', '▁the', '▁constitution', '▁of', '▁in', 'dia', '.', '▁the', '▁first', '▁important', '▁thing', '▁to', '▁number', 'ice', '▁is', '▁that', '▁the', '▁10', '▁deposit', '-', 'at', '-', '▁call', '▁of', '▁the', '▁amount', '▁claimed', '▁is', '▁in', '▁order', '▁to', '▁avoid', '▁frivolous', '▁claims', '▁by', '▁the', '▁party', '▁in', 'vo', 'king', '▁arbitration', '.', '▁it', '▁is', '▁well', '▁settled', '▁that', '▁a', '▁frivolous', '▁claim', '▁can', '▁be', '▁dismissed', '▁with', '▁exemplary', '▁company', 't', 's', '.', '▁thus', ',', '▁in', '▁', 'd', 'ny', 'and', 'eo', '▁', 's', 'aba', 'ji', '▁', 'na', 'ik', '▁v', '.', '▁', 'pra', 'd', 'ny', 'a', '▁p', 'rak', 'ash', '▁', 'kha', 'de', 'kar', ',', '▁2017', '▁5', '▁', 's', 'cc', '▁49', '6', ',', '▁this', '▁court', '▁held', '▁courts', '▁across', '▁the', '▁legal', '▁system', 'this', '▁court', '▁number', '▁being', '▁an', '▁exception', 'are', '▁choked', '▁with', '▁litigation', '.', '▁frivolous', '▁and', '▁ground', 'less', '▁filing', 's', '▁company', 's', 'titu', 'te', '▁a', '▁serious', '▁menace', '▁to', '▁the', '▁administration', '▁of', '▁justice', '.', '▁they', '▁company', 's', 'ume', '▁time', '▁and', '▁c', 'log', '▁the', '▁infrastructure', '.', '▁productive', '▁resources', '▁which', '▁should', '▁be', '▁deployed', '▁in', '▁the', '▁handling', '▁of', '▁genuine', '▁causes', '▁are', '▁dissipate', 'd', '▁in', '▁attending', '▁to', '▁cases', '▁filed', '▁only', '▁to', '▁benefit', '▁from', '▁delay', ',', '▁by', '▁prolong', 'ing', '▁dead', '▁issues', '▁and', '▁pursuing', '▁worthless', '▁causes', '.', '▁no', '▁lit', 'igan', 't', '▁can', '▁have', '▁a', '▁vested', '▁interest', '▁in', '▁delay', '.', '▁unfortunately', ',', '▁as', '▁the', '▁present', '▁case', '▁ex', 'emp', 'l', 'ifies', ',', '▁the', '▁process', '▁of', '▁dis', 'pens', 'ing', '▁justice', '▁is', '▁misuse', 'd', '▁by', '▁the', '▁un', 'scrupulous', '▁to', '▁the', '▁de', 'tri', 'ment', '▁of', '▁the', '▁legitimate', '.', '▁the', '▁present', '▁case', '▁is', '▁an', '▁illustration', '▁of', '▁how', '▁a', '▁simple', '▁issue', '▁has', '▁occupied', '▁the', '▁time', '▁of', '▁the', '▁company', 'rt', 's', '▁and', '▁of', '▁how', '▁successive', '▁applications', '▁have', '▁been', '▁filed', '▁to', '▁prolong', '▁the', '▁inevitable', '.', '▁the', '▁person', '▁in', '▁whose', '▁favour', '▁the', '▁balance', '▁of', '▁justice', '▁lies', '▁has', '▁in', '▁the', '▁process', '▁been', '▁left', '▁in', '▁the', '▁lurch', '▁by', '▁repeated', '▁attempts', '▁to', '▁revive', '▁a', '▁', 's', 'tale', '▁issue', '.', '▁this', '▁tendency', '▁can', '▁be', '▁curb', 'ed', '▁only', '▁if', '▁company', 'rt', 's', '▁across', '▁the', '▁system', '▁adopt', '▁an', '▁institutional', '▁approach', '▁which', '▁penal', 'ise', 's', '▁such', '▁behaviour', '.', '▁liberal', '▁access', '▁to', '▁justice', '▁does', '▁number', '▁mean', '▁access', '▁to', '▁chaos', '▁and', '▁in', 'discipline', '.', '▁a', '▁strong', '▁message', '▁must', '▁be', '▁company', 'vey', 'ed', '▁that', '▁company', 'rt', 's', '▁of', '▁justice', '▁will', '▁number', '▁be', '▁allowed', '▁to', '▁be', '▁disrupted', '▁by', '▁lit', 'ig', 'ative', '▁strategies', '▁designed', '▁to', '▁profit', '▁from', '▁the', '▁delays', '▁of', '▁the', '▁law', '.', '▁unless', '▁', 're', 'medial', '▁action', '▁is', '▁taken', '▁by', '▁all', '▁company', 'rt', 's', '▁here', '▁and', '▁number', '▁our', '▁society', '▁will', '▁breed', '▁a', '▁legal', '▁culture', '▁based', '▁on', '▁evasion', '▁instead', '▁of', '▁a', 'bid', 'ance', '.', '▁it', '▁is', '▁the', '▁duty', '▁of', '▁every', '▁company', 'rt', '▁to', '▁firmly', '▁deal', '▁with', '▁such', '▁situations', '.', '▁the', '▁imposition', '▁of', '▁exemplary', '▁company', 't', 's', '▁is', '▁a', '▁necessary', '▁instrument', '▁which', '▁has', '▁to', '▁be', '▁deployed', '▁to', '▁we', 'ed', '▁out', ',', '▁as', '▁well', '▁as', '▁to', '▁prevent', '▁the', '▁filing', '▁of', '▁frivolous', '▁cases', '.', '▁it', '▁is', '▁only', '▁then', '▁that', '▁the', '▁company', 'rt', 's', '▁can', '▁set', '▁apart', '▁time', '▁to', '▁resolve', '▁genuine', '▁causes', '▁and', '▁answer', '▁the', '▁company', 'cer', 'ns', '▁of', '▁those', '▁who', '▁are', '▁in', '▁need', '▁of', '▁justice', '.', '▁imposition', '▁of', '▁real', '▁time', '▁company', 't', 's', '▁is', '▁also', '▁necessary', '▁to', '▁ensure', '▁that', '▁access', '▁to', '▁company', 'rt', 's', '▁is', '▁available', '▁to', '▁citizens', '▁with', '▁genuine', '▁grievance', 's', '.', '▁otherwise', ',', '▁the', '▁doors', '▁would', '▁be', '▁shut', '▁to', '▁legitimate', '▁causes', '▁simply', '▁by', '▁the', '▁weight', '▁of', '▁', 'unde', 'serving', '▁cases', '▁which', '▁flood', '▁the', '▁system', '.', '▁such', '▁a', '▁situation', '▁cannot', '▁be', '▁allowed', '▁to', '▁company', 'e', '▁to', '▁pass', '.', '▁hence', '▁it', '▁is', '▁number', '▁merely', '▁a', '▁matter', '▁of', '▁discretion', '▁but', '▁a', '▁duty', '▁and', '▁obligation', '▁cast', '▁upon', '▁all', '▁company', 'rt', 's', '▁to', '▁ensure', '▁that', '▁the', '▁legal', '▁system', '▁is', '▁number', '▁exploited', '▁by', '▁those', '▁who', '▁use', '▁the', '▁forms', '▁of', '▁the', '▁law', '▁to', '▁defeat', '▁or', '▁delay', '▁justice', '.', '▁we', '▁company', 'men', 'd', '▁all', '▁company', 'rt', 's', '▁to', '▁deal', '▁with', '▁frivolous', '▁filing', 's', '▁in', '▁the', '▁same', '▁manner', '.', '▁emphasis', '▁supplied', '▁it', '▁is', '▁therefore', '▁always', '▁open', '▁to', '▁the', '▁party', '▁who', '▁has', '▁succeeded', '▁before', '▁the', '▁arbitrator', '▁to', '▁invoke', '▁this', '▁principle', '▁and', '▁it', '▁is', '▁open', '▁to', '▁the', '▁arbitrator', '▁to', '▁dismiss', '▁a', '▁claim', '▁as', '▁frivolous', '▁on', '▁imposition', '▁of', '▁exemplary', '▁company', 't', 's', '.', '▁we', '▁may', '▁also', '▁number', 'ice', '▁this', '▁courts', '▁judgment', '▁in', '▁general', '▁motor', 's', '▁', 'i', '▁p', '▁', 'lt', 'd', '.', '▁v', '.', '▁', 'ash', 'ok', '▁', 'ram', 'nik', '▁', 'l', 'al', '▁to', 'lat', ',', '▁2015', '▁1', '▁', 's', 'cc', '▁4', '29', ',', '▁that', '▁punitive', '▁damages', '▁follow', '▁when', '▁a', '▁company', 'rt', '▁is', '▁approached', '▁with', '▁a', '▁frivolous', '▁litigation', '.', '▁this', '▁company', 'rt', '▁held', '-', '▁we', '▁proceed', '▁to', '▁deal', '▁with', '▁the', '▁issue', '▁of', '▁company', 'rect', 'ness', '▁of', '▁finding', '▁recorded', '▁by', '▁the', '▁national', '▁commission', '▁for', '▁award', 'ing', '▁punitive', '▁damages', '.', '▁before', '▁doing', '▁so', ',', '▁we', '▁may', '▁number', 'ice', '▁that', '▁the', '▁respond', 'ent', '▁company', 'plain', 'ant', '▁appearing', '▁in', '▁person', ',', '▁in', '▁his', '▁written', '▁submissions', '▁has', '▁raised', '▁various', '▁questions', ',', '▁including', '▁the', '▁question', '▁that', '▁the', '▁app', 'ell', 'ant', '▁should', '▁be', '▁asked', '▁to', '▁account', '▁for', '▁the', '▁proceeds', '▁of', '▁the', '▁vehicles', '▁sold', '▁by', '▁it', '.', '▁admitted', 'ly', ',', '▁the', '▁vehicle', '▁in', '▁question', '▁has', '▁been', '▁ordered', '▁to', '▁be', '▁handed', '▁back', '▁to', '▁the', '▁app', 'ell', 'ant', '▁against', '▁which', '▁the', '▁respond', 'ent', '▁company', 'plain', 'ant', '▁has', '▁number', 'claim', '.', '▁thus', ',', '▁the', '▁plea', '▁raised', '▁is', '▁without', '▁any', '▁merit', '.', '▁the', '▁other', '▁issue', '▁raised', '▁for', '▁further', '▁punitive', '▁damages', '▁of', '▁', 'rs', '.', '▁100', '▁', 'cro', 're', 's', '▁and', '▁also', '▁damages', '▁for', '▁dragging', '▁him', '▁in', '▁this', '▁court', ',', '▁merits', '▁number', 'consider', 'ation', '▁being', '▁beyond', '▁the', '▁claim', '▁of', '▁the', '▁company', 'plain', 'ant', '▁in', '▁the', '▁company', 'plain', 't', '▁filed', '▁by', '▁him', '.', '▁more', 'over', ',', '▁number', 'lit', 'igan', 't', '▁can', '▁be', '▁punished', '▁by', '▁way', '▁of', '▁punitive', '▁damages', '▁for', '▁merely', '▁approaching', '▁this', '▁court', ',', '▁unless', '▁its', '▁case', '▁is', '▁found', '▁to', '▁be', '▁frivolous', '.', '▁the', '▁important', '▁principle', '▁established', '▁by', '▁this', '▁case', '▁is', '▁that', '▁unless', '▁it', '▁is', '▁first', '▁found', '▁that', '▁the', '▁litigation', '▁that', '▁has', '▁been', '▁embarked', '▁upon', '▁is', '▁frivolous', ',', '▁exemplary', '▁company', 't', 's', '▁or', '▁punitive', '▁damages', '▁do', '▁number', '▁follow', '.', '▁clearly', ',', '▁therefore', ',', '▁a', '▁deposit', '-', 'at', '-', 'call', '▁of', '▁10', '▁of', '▁the', '▁amount', '▁claimed', ',', '▁which', '▁can', '▁amount', '▁to', '▁large', '▁sums', '▁of', '▁money', ',', '▁is', '▁obviously', '▁without', '▁any', '▁direct', '▁', 'n', 'ex', 'us', '▁to', '▁the', '▁filing', '▁of', '▁frivolous', '▁claims', ',', '▁as', '▁it', '▁applies', '▁to', '▁all', '▁claims', '▁frivolous', '▁or', '▁otherwise', '▁made', '▁at', '▁the', '▁very', '▁threshold', '.', '▁a', '▁10', '▁deposit', '▁has', '▁to', '▁be', '▁made', '▁before', '▁any', '▁determination', '▁that', '▁a', '▁claim', '▁made', '▁by', '▁the', '▁party', '▁in', 'vo', 'king', '▁arbitration', '▁is', '▁frivolous', '.', '▁this', '▁is', '▁also', '▁one', '▁important', '▁aspect', '▁of', '▁the', '▁matter', '▁to', '▁be', '▁kept', '▁in', '▁mind', '▁in', '▁deciding', '▁that', '▁such', '▁a', '▁clause', '▁would', '▁be', '▁arbitrary', '▁in', '▁the', '▁sense', '▁of', '▁being', '▁something', '▁which', '▁would', '▁be', '▁unfair', '▁and', '▁unjust', '▁and', '▁which', '▁number', 'reasonable', '▁man', '▁would', '▁agree', '▁to', '.', '▁indeed', ',', '▁a', '▁claim', '▁may', '▁be', '▁dismissed', '▁but', '▁need', '▁number', '▁be', '▁frivolous', ',', '▁as', '▁is', '▁obvious', '▁from', '▁the', '▁fact', '▁that', '▁where', '▁three', '▁arbitrator', 's', '▁are', '▁appointed', ',', '▁there', '▁have', '▁been', '▁known', '▁to', '▁be', '▁majority', '▁and', '▁minority', '▁awards', ',', '▁making', '▁it', '▁clear', '▁that', '▁there', '▁may', '▁be', '▁two', '▁possible', '▁or', '▁even', '▁plausible', '▁views', '▁which', '▁would', '▁indicate', '▁that', '▁the', '▁claim', '▁is', '▁dismissed', '▁or', '▁allowed', '▁on', '▁merits', '▁and', '▁number', '▁because', '▁it', '▁is', '▁frivolous', '.', '▁further', ',', '▁even', '▁where', '▁a', '▁claim', '▁is', '▁found', '▁to', '▁be', '▁justified', '▁and', '▁company', 'rect', ',', '▁the', '▁amount', '▁that', '▁is', '▁deposited', '▁need', '▁number', '▁be', '▁refund', 'ed', '▁to', '▁the', '▁successful', '▁claimant', '.', '▁take', '▁for', '▁example', '▁a', '▁claim', '▁based', '▁on', '▁a', '▁termination', '▁of', '▁a', '▁company', 'tract', '▁being', '▁illegal', '▁and', '▁company', 'se', 'que', 'nt', '▁damages', '▁there', 'to', '.', '▁if', '▁the', '▁claim', '▁succeed', 's', '▁and', '▁the', '▁termination', '▁is', '▁set', '▁aside', '▁as', '▁being', '▁illegal', '▁and', '▁a', '▁damages', '▁claim', '▁of', '▁one', '▁', 'cro', 're', '▁is', '▁finally', '▁granted', '▁by', '▁the', '▁learned', '▁arbitrator', '▁at', '▁only', '▁ten', '▁la', 'kh', 's', ',', '▁only', '▁one', '▁tenth', '▁of', '▁the', '▁deposit', '▁made', '▁will', '▁be', '▁liable', '▁to', '▁be', '▁returned', '▁to', '▁the', '▁successful', '▁party', '.', '▁the', '▁party', '▁who', '▁has', '▁lost', '▁in', '▁the', '▁arbitration', '▁proceedings', '▁will', '▁be', '▁entitled', '▁to', '▁forfeit', '▁nine', '▁tenth', 's', '▁of', '▁the', '▁deposit', '▁made', '▁despite', '▁the', '▁fact', '▁that', '▁the', '▁a', 'fore', 's', 'aid', '▁party', '▁has', '▁an', '▁award', '▁against', '▁it', '.', '▁this', '▁would', '▁render', '▁the', '▁entire', '▁clause', '▁wholly', '▁arbitrary', ',', '▁being', '▁number', '▁only', '▁excessive', '▁or', '▁', 'disproportionate', '▁but', '▁leading', '▁to', '▁the', '▁wholly', '▁unjust', '▁result', '▁of', '▁a', '▁party', '▁who', '▁has', '▁lost', '▁an', '▁arbitration', '▁being', '▁entitled', '▁to', '▁forfeit', '▁such', '▁part', '▁of', '▁the', '▁deposit', '▁as', '▁falls', '▁proportion', 'ate', 'ly', '▁short', '▁of', '▁the', '▁amount', '▁awarded', '▁as', '▁company', 'par', 'ed', '▁to', '▁what', '▁is', '▁claimed', '.', '▁further', ',', '▁it', '▁is', '▁also', '▁settled', '▁law', '▁that', '▁arbitration', '▁is', '▁an', '▁important', '▁alternative', '▁dispute', '▁resolution', '▁process', '▁which', '▁is', '▁to', '▁be', '▁encouraged', '▁because', '▁of', '▁high', '▁pen', 'd', 'ency', '▁of', '▁cases', '▁in', '▁company', 'rt', 's', '▁and', '▁company', 't', '▁of', '▁litigation', '.', '▁any', '▁requirement', '▁as', '▁to', '▁deposit', '▁would', '▁certainly', '▁amount', '▁to', '▁a', '▁c', 'log', '▁on', '▁this', '▁process', '.', '▁also', ',', '▁it', '▁is', '▁easy', '▁to', '▁visualize', '▁that', '▁often', '▁a', '▁deposit', '▁of', '▁10', '▁of', '▁a', '▁huge', '▁claim', '▁would', '▁be', '▁even', '▁greater', '▁than', '▁company', 'rt', '▁fees', '▁that', '▁may', '▁be', '▁charged', '▁for', '▁filing', '▁a', '▁suit', '▁in', '▁a', '▁civil', '▁company', 'rt', '.', '▁this', '▁court', '▁in', '▁state', '▁of', '▁', 'j', 'k', '▁v', '.', '▁', 'dev', '▁du', 't', 't', '▁pan', 'dit', ',', '▁1999', '▁7', '▁', 's', 'cc', '▁3', '39', ',', '▁has', '▁held', '-', '▁arbitration', '▁is', '▁company', 'side', 'red', '▁to', '▁be', '▁an', '▁important', '▁alternative', '▁disputes', '▁redress', 'al', '▁process', '▁which', '▁is', '▁to', '▁be', '▁encouraged', '▁because', '▁of', '▁high', '▁pen', 'd', 'ency', '▁of', '▁cases', '▁in', '▁the', '▁company', 'rt', 's', '▁and', '▁company', 't', '▁of', '▁litigation', '.', '▁arbitration', '▁has', '▁to', '▁be', '▁looked', '▁up', '▁to', '▁with', '▁all', '▁earnest', 'ness', '▁so', '▁that', '▁the', '▁lit', 'igan', 't', '▁public', '▁has', '▁faith', '▁in', '▁the', '▁speedy', '▁process', '▁of', '▁resolving', '▁their', '▁disputes', '▁by', '▁this', '▁process', '.', '▁what', '▁happened', '▁in', '▁the', '▁present', '▁case', '▁is', '▁certainly', '▁a', '▁paradox', 'ical', '▁situation', '▁which', '▁should', '▁be', '▁avoided', '.', '▁total', '▁company', 'tract', '▁is', '▁for', '▁', 'rs', '.', '▁12', ',', '2', '3,500', '.', '▁when', '▁the', '▁company', 'tract', 'or', '▁has', '▁done', '▁less', '▁than', '▁50', '▁of', '▁the', '▁work', '▁the', '▁company', 'tract', '▁is', '▁terminated', '.', '▁he', '▁has', '▁been', '▁paid', '▁', 'rs', '▁5', ',', '71', ',', '900', '.', '▁in', '▁a', '▁section', '▁20', '▁petition', '▁he', '▁makes', '▁a', '▁claim', '▁of', '▁', 'rs', '.', '▁39', ',', '4', '7,000', '▁and', '▁before', '▁the', '▁arbitrator', '▁the', '▁claim', '▁is', '▁inflated', '▁to', '▁', 'rs', '.', '▁63', ',', '6', '1,000', '.', '▁he', '▁gets', '▁away', '▁with', '▁', 'rs', '.', '▁20', ',', '0', '8,000', '▁with', '▁interest', '▁at', '▁the', '▁rate', '▁of', '▁10', '▁per', '▁an', 'num', '▁and', '▁penal', '▁interest', '▁at', '▁the', '▁rate', '▁of', '▁18', '▁per', '▁an', 'num', '.', '▁such', '▁type', '▁of', '▁arbitration', '▁becomes', '▁subject', '▁of', '▁wit', 'tic', 'ism', '▁and', '▁do', '▁number', '▁help', '▁the', '▁institution', '▁of', '▁arbitration', '.', '▁rather', '▁it', '▁brings', '▁a', '▁bad', '▁name', '▁to', '▁the', '▁arbitration', '▁process', '▁as', '▁a', '▁whole', '.', '▁when', '▁claims', '▁are', '▁inflated', '▁out', '▁of', '▁all', '▁proportion', 's', '▁number', '▁only', '▁that', '▁heavy', '▁company', 't', '▁should', '▁be', '▁awarded', '▁to', '▁the', '▁other', '▁party', '▁but', '▁the', '▁party', '▁making', '▁such', '▁inflated', '▁claims', '▁should', '▁be', '▁deprived', '▁of', '▁the', '▁company', 't', '.', '▁we', ',', '▁therefore', ',', '▁set', '▁aside', '▁the', '▁award', '▁of', '▁company', 't', '▁of', '▁', 'rs', '.', '▁7', '500', '▁given', '▁in', '▁favour', '▁of', '▁the', '▁company', 'tract', 'or', '▁and', '▁against', '▁the', '▁state', '▁of', '▁jam', 'mu', '▁and', '▁', 'k', 'ash', 'mir', '.', '▁emphasis', '▁supplied', '▁several', '▁judgment', 's', '▁of', '▁this', '▁court', '▁have', '▁also', '▁reiterated', '▁that', '▁the', '▁primary', '▁object', '▁of', '▁arbitration', '▁is', '▁to', '▁reach', '▁a', '▁final', '▁disposal', '▁of', '▁disputes', '▁in', '▁a', '▁speedy', ',', '▁effective', ',', '▁inexpensive', '▁and', '▁', 'exp', 'edit', 'ious', '▁manner', '.', '▁thus', ',', '▁in', '▁cent', 'ro', 'trade', '▁minerals', '▁metal', '▁in', 'c', '.', '▁v', '.', '▁hind', 'us', 'tan', '▁copper', '▁', 'lt', 'd', '.', ',', '▁2017', '▁2', '▁', 's', 'cc', '▁2', '28', ',', '▁this', '▁company', 'rt', '▁held', '▁in', '▁union', '▁of', '▁in', 'dia', '▁v', '.', '▁', 'u', '.', 'p', '.', '▁state', '▁bridge', '▁', 'corp', 'n', '.', '▁', 'lt', 'd', '.', '▁2015', '▁2', '▁', 's', 'cc', '▁52', '▁this', '▁court', '▁accepted', '▁the', '▁view', '▁', 'o', '.', 'p', '.', '▁', 'mal', 'ho', 'tra', '▁on', '▁the', '▁law', '▁and', '▁practice', '▁of', '▁arbitration', '▁and', '▁con', 'cilia', 'tion', '▁3', 'rd', '▁', 'ed', 'n', '.', '▁revised', '▁by', '▁', 'm', 's', '▁in', 'du', '▁', 'mal', 'ho', 'tra', ',', '▁senior', '▁advocate', '▁that', '▁the', '▁', 'ac', '▁act', '▁has', '▁four', '▁foundation', 'al', '▁pillars', '▁and', '▁then', '▁observed', '▁in', '▁para', '▁16', '▁of', '▁the', '▁report', '▁', 's', 'ic', '▁that', '▁first', '▁and', '▁paramount', '▁principle', '▁of', '▁the', '▁first', '▁pillar', '▁is', '▁fair', ',', '▁speedy', '▁and', '▁inexpensive', '▁trial', '▁by', '▁an', '▁', 'ar', 'bit', 'ral', '▁tribunal', '.', '▁unnecessary', '▁delay', '▁or', '▁expense', '▁would', '▁fr', 'us', 't', 'rate', '▁the', '▁very', '▁purpose', '▁of', '▁arbitration', '.', '▁interesting', 'ly', ',', '▁the', '▁second', '▁principle', '▁which', '▁is', '▁recognised', '▁in', '▁the', '▁act', '▁is', '▁the', '▁party', '▁autonomy', '▁in', '▁the', '▁choice', '▁of', '▁procedure', '.', '▁this', '▁means', '▁that', '▁if', '▁a', '▁particular', '▁procedure', '▁is', '▁prescribed', '▁in', '▁the', '▁arbitration', '▁agreement', '▁which', '▁the', '▁parties', '▁have', '▁agreed', '▁to', ',', '▁that', '▁has', '▁to', '▁be', '▁generally', '▁resort', 'ed', '▁to', '.', '▁emphasis', '▁in', '▁original', '▁similarly', ',', '▁in', '▁union', '▁of', '▁in', 'dia', '▁v', '.', '▁', 'var', 'inder', 'a', '▁construction', 's', '▁', 'lt', 'd', '.', ',', '▁2018', '▁7', '▁', 's', 'cc', '▁7', '94', ',', '▁this', '▁court', '▁held', '-', '▁the', '▁primary', '▁object', '▁of', '▁the', '▁arbitration', '▁is', '▁to', '▁reach', '▁a', '▁final', '▁disposition', '▁in', '▁a', '▁speedy', ',', '▁effective', ',', '▁inexpensive', '▁and', '▁', 'exp', 'edit', 'ious', '▁manner', '.', '▁in', '▁order', '▁to', '▁regulate', '▁the', '▁law', '▁regarding', '▁arbitration', ',', '▁legislature', '▁came', '▁up', '▁with', '▁legislation', '▁which', '▁is', '▁known', '▁as', '▁arbitration', '▁and', '▁con', 'cilia', 'tion', '▁act', ',', '▁1996', '.', '▁in', '▁order', '▁to', '▁make', '▁arbitration', '▁process', '▁more', '▁effective', ',', '▁the', '▁legislature', '▁restricted', '▁the', '▁role', '▁of', '▁company', 'rt', 's', '▁in', '▁case', '▁where', '▁matter', '▁is', '▁subject', '▁to', '▁the', '▁arbitration', '.', '▁section', '▁5', '▁of', '▁the', '▁act', '▁specifically', '▁restricted', '▁the', '▁interference', '▁of', '▁the', '▁company', 'rt', 's', '▁to', '▁some', '▁extent', '.', '▁in', '▁other', '▁words', ',', '▁it', '▁is', '▁only', '▁in', '▁exceptional', '▁circumstances', ',', '▁as', '▁provided', '▁by', '▁this', '▁act', ',', '▁the', '▁company', 'rt', '▁is', '▁entitled', '▁to', '▁intervene', '▁in', '▁the', '▁dispute', '▁which', '▁is', '▁the', '▁subject', '-', '▁matter', '▁of', '▁arbitration', '.', '▁such', '▁intervention', '▁may', '▁be', '▁before', ',', '▁at', '▁or', '▁after', '▁the', '▁arbitration', '▁proceeding', ',', '▁as', '▁the', '▁case', '▁may', '▁be', '.']\n"
     ]
    }
   ],
   "source": [
    "tokenizer = XLNetTokenizer.from_pretrained('xlnet-base-cased', do_lower_case=True)\n",
    "\n",
    "tokenized_texts = [tokenizer.tokenize(text) for text in train.text]\n",
    "print (\"Tokenize the first sentence:\")\n",
    "print (tokenized_texts[0])\n"
   ],
   "metadata": {
    "collapsed": false
   }
  },
  {
   "cell_type": "code",
   "execution_count": null,
   "outputs": [],
   "source": [
    "tokenized_texts_single = [tokenizer.tokenize(text) for text in single.text]"
   ],
   "metadata": {
    "collapsed": false,
    "pycharm": {
     "is_executing": true
    }
   }
  },
  {
   "cell_type": "code",
   "execution_count": null,
   "outputs": [],
   "source": [
    "total = 0\n",
    "for text in tokenized_texts_single:\n",
    "    total += len(text)\n",
    "print(total/len(single))"
   ],
   "metadata": {
    "collapsed": false,
    "pycharm": {
     "is_executing": true
    }
   }
  },
  {
   "cell_type": "code",
   "execution_count": null,
   "outputs": [],
   "source": [],
   "metadata": {
    "collapsed": false
   }
  }
 ],
 "metadata": {
  "kernelspec": {
   "display_name": "Dissertation",
   "language": "python",
   "name": "python3"
  },
  "language_info": {
   "codemirror_mode": {
    "name": "ipython",
    "version": 3
   },
   "file_extension": ".py",
   "mimetype": "text/x-python",
   "name": "python",
   "nbconvert_exporter": "python",
   "pygments_lexer": "ipython3",
   "version": "3.11.0"
  },
  "vscode": {
   "interpreter": {
    "hash": "79e1b56c01ced2db100b60dbd7c67ba6a9f338e32f00794ffcf0a0c3fffca523"
   }
  }
 },
 "nbformat": 4,
 "nbformat_minor": 5
}
